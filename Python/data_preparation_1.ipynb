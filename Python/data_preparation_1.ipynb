{
 "cells": [
  {
   "cell_type": "markdown",
   "metadata": {
    "id": "AQcAmfutPNBc"
   },
   "source": [
    "**Notebook de Preparação de Dados para Projeto de Identificação de Depressão**\n",
    "\n",
    "**Introdução:**\n",
    "Neste notebook, iniciaremos o nosso projeto prático com o objetivo de compreender melhor o nosso domínio de problema e preparar os dados para a construção de modelos de machine learning. Utilizaremos o método CAPTO para selecionar os atributos mais relevantes para a classificação de pessoas que possam possuir depressão. Os dados utilizados serão provenientes da Pesquisa Nacional de Saúde (PNS) de 2019.\n",
    "\n",
    "**Objetivos:**\n",
    "O principal objetivo deste notebook é realizar a preparação inicial dos dados, incluindo a seleção de atributos, tratamento de valores ausentes e vazios, além da análise exploratória dos dados filtrados.\n",
    "\n",
    "**Procedimentos:**\n",
    "1. **Coleta de Dados:**\n",
    "   - Iniciaremos a coleta dos dados da PNS 2019 para utilização em nosso projeto.\n",
    "\n",
    "2. **Seleção de Atributos:**\n",
    "   - Utilizando o método CAPTO, identificaremos os atributos mais relevantes para a classificação de pessoas com depressão.\n",
    "\n",
    "3. **Renomeação de Atributos e Instâncias:**\n",
    "   - Renomearemos os atributos e instâncias conforme necessário para melhor compreensão dos dados e para garantir consistência.\n",
    "\n",
    "4. **Tratamento de Valores Ausentes e Vazios:**\n",
    "   - Realizaremos o tratamento de valores ausentes e vazios de acordo com as necessidades apresentadas pelos dados.\n",
    "\n",
    "5. **Análise Exploratória dos Dados:**\n",
    "   - Antes e depois do tratamento inicial, faremos uma análise exploratória dos dados para entender melhor suas características e possíveis padrões.\n",
    "\n",
    "**Conclusão:**\n",
    "Este notebook servirá como o ponto de partida para o desenvolvimento de modelos de machine learning voltados à identificação de pessoas com depressão. A preparação adequada dos dados é essencial para garantir a qualidade e a eficácia dos modelos construídos. Ao final deste processo, estaremos mais próximos de alcançar nosso objetivo de caracterizar pessoas que possam estar sofrendo dessa condição."
   ]
  },
  {
   "cell_type": "markdown",
   "metadata": {
    "id": "5uOIyHWZOGjl"
   },
   "source": [
    "## Bibliotecas Utilizadas\n",
    "As principais bibliotecas utilizadas nesta etapa são:\n",
    "- Sidetable: Auxilia na identificação rápida de valores faltantes e frequências de valores categóricos.\n",
    "- Pandas Profiling: Faz uma análise exploratória automática dos dados, gerando insights sobre problemas nos dados.\n",
    "- NumPy: Biblioteca fundamental para computação científica em Python.\n",
    "- Pandas: Biblioteca popular para análise de dados.\n",
    "- Seaborn / Matplotlib: Visualização de dados.\n",
    "- Missingno: Facilita a plotagem de dados faltantes.\n",
    "- IPython Widgets: Permite interatividade."
   ]
  },
  {
   "cell_type": "code",
   "execution_count": 1,
   "metadata": {
    "executionInfo": {
     "elapsed": 1209,
     "status": "ok",
     "timestamp": 1708345418366,
     "user": {
      "displayName": "Pedro Rodrigues",
      "userId": "13325411992293832064"
     },
     "user_tz": 180
    },
    "id": "rc9sKquMGPZL"
   },
   "outputs": [],
   "source": [
    "import numpy as np\n",
    "import pandas as pd \n",
    "\n",
    "import seaborn as sns\n",
    "import matplotlib.pyplot as plt \n",
    "\n",
    "import sidetable \n",
    "from ydata_profiling import ProfileReport\n",
    "\n",
    "import missingno as msno \n",
    "from ipywidgets import interact, widgets "
   ]
  },
  {
   "cell_type": "markdown",
   "metadata": {},
   "source": [
    "## Análise Inicial dos dados "
   ]
  },
  {
   "cell_type": "code",
   "execution_count": 2,
   "metadata": {
    "colab": {
     "base_uri": "https://localhost:8080/",
     "height": 256
    },
    "executionInfo": {
     "elapsed": 91,
     "status": "ok",
     "timestamp": 1708345419846,
     "user": {
      "displayName": "Pedro Rodrigues",
      "userId": "13325411992293832064"
     },
     "user_tz": 180
    },
    "id": "1XoLXB4LGnsV",
    "outputId": "3be35fca-0996-4487-91d9-e6d1861f34ce",
    "scrolled": true
   },
   "outputs": [],
   "source": [
    "data = r\"C:\\Users\\maype\\OneDrive\\Área de Trabalho\\pns_2019\\pns2019\\pns2019.csv\"\n",
    "df_original = pd.read_csv(data)"
   ]
  },
  {
   "cell_type": "code",
   "execution_count": 3,
   "metadata": {
    "colab": {
     "base_uri": "https://localhost:8080/"
    },
    "executionInfo": {
     "elapsed": 85,
     "status": "ok",
     "timestamp": 1708345419849,
     "user": {
      "displayName": "Pedro Rodrigues",
      "userId": "13325411992293832064"
     },
     "user_tz": 180
    },
    "id": "GeSxuiFIqpkC",
    "outputId": "a50ea3ac-773c-4850-dd9c-db9c26b890f8"
   },
   "outputs": [
    {
     "name": "stdout",
     "output_type": "stream",
     "text": [
      "Primeiras linhas do DataFrame:\n",
      "   V0001    V0024    UPA_PNS  V0006_PNS  V0015  V0020  V0022  V0026  V0031  \\\n",
      "0     11  1110011  110000016          1      1   2019    6.0      1      1   \n",
      "1     11  1110011  110000016          1      1   2019    6.0      1      1   \n",
      "2     11  1110011  110000016          1      1   2019    6.0      1      1   \n",
      "3     11  1110011  110000016          1      1   2019    6.0      1      1   \n",
      "4     11  1110011  110000016          1      1   2019    6.0      1      1   \n",
      "\n",
      "   V0025A  ...  VDE002  VDE014  VDF002  VDF003  VDF004  VDL001  VDM001  \\\n",
      "0     1.0  ...     1.0     6.0  2098.0   350.0     2.0     NaN     NaN   \n",
      "1     0.0  ...     NaN     NaN  2098.0   350.0     2.0     NaN     NaN   \n",
      "2     0.0  ...     1.0     4.0  2098.0   350.0     2.0     NaN     NaN   \n",
      "3     9.0  ...     NaN     NaN  2098.0   350.0     2.0     NaN     NaN   \n",
      "4     9.0  ...     NaN     NaN  2098.0   350.0     2.0     NaN     NaN   \n",
      "\n",
      "   VDP001  VDR001    VDDATA  \n",
      "0     NaN     NaN  20210825  \n",
      "1     NaN     NaN  20210825  \n",
      "2     NaN     NaN  20210825  \n",
      "3     NaN     NaN  20210825  \n",
      "4     NaN     NaN  20210825  \n",
      "\n",
      "[5 rows x 1087 columns]\n"
     ]
    }
   ],
   "source": [
    "# 1. Visualização das primeiras linhas do DataFrame\n",
    "print(\"Primeiras linhas do DataFrame:\")\n",
    "print(df_original.head())"
   ]
  },
  {
   "cell_type": "code",
   "execution_count": 4,
   "metadata": {},
   "outputs": [
    {
     "name": "stdout",
     "output_type": "stream",
     "text": [
      "Temos 293726 linhas e 1087 colunas.\n"
     ]
    }
   ],
   "source": [
    "# 2. Número de linhas e colunas\n",
    "print(\"Temos\", df_original.shape[0], \"linhas e\", df_original.shape[1], \"colunas.\")"
   ]
  },
  {
   "cell_type": "code",
   "execution_count": 5,
   "metadata": {},
   "outputs": [
    {
     "name": "stdout",
     "output_type": "stream",
     "text": [
      "\n",
      "Informações gerais sobre o DataFrame:\n"
     ]
    },
    {
     "name": "stdout",
     "output_type": "stream",
     "text": [
      "<class 'pandas.core.frame.DataFrame'>\n",
      "RangeIndex: 293726 entries, 0 to 293725\n",
      "Columns: 1087 entries, V0001 to VDDATA\n",
      "dtypes: float64(1078), int64(9)\n",
      "memory usage: 2.4 GB\n",
      "None\n"
     ]
    }
   ],
   "source": [
    "# 3. Informações gerais sobre o DataFrame\n",
    "print(\"\\nInformações gerais sobre o DataFrame:\")\n",
    "print(df_original.info())"
   ]
  },
  {
   "cell_type": "code",
   "execution_count": 6,
   "metadata": {},
   "outputs": [
    {
     "name": "stdout",
     "output_type": "stream",
     "text": [
      "\n",
      "Contagem de valores únicos em cada coluna:\n"
     ]
    },
    {
     "name": "stdout",
     "output_type": "stream",
     "text": [
      "V0001          27\n",
      "V0024         574\n",
      "UPA_PNS      8031\n",
      "V0006_PNS      18\n",
      "V0015          12\n",
      "             ... \n",
      "VDL001         31\n",
      "VDM001          4\n",
      "VDP001          3\n",
      "VDR001          9\n",
      "VDDATA          1\n",
      "Length: 1087, dtype: int64\n"
     ]
    }
   ],
   "source": [
    "# 4. Contagem de valores únicos em cada coluna\n",
    "print(\"\\nContagem de valores únicos em cada coluna:\")\n",
    "print(df_original.nunique())"
   ]
  },
  {
   "cell_type": "code",
   "execution_count": 7,
   "metadata": {},
   "outputs": [
    {
     "name": "stdout",
     "output_type": "stream",
     "text": [
      "\n",
      "Contagem de valores nulos em cada coluna:\n",
      "V0001             0\n",
      "V0024             0\n",
      "UPA_PNS           0\n",
      "V0006_PNS         0\n",
      "V0015             0\n",
      "              ...  \n",
      "VDL001       287094\n",
      "VDM001       249264\n",
      "VDP001       285577\n",
      "VDR001       276350\n",
      "VDDATA            0\n",
      "Length: 1087, dtype: int64\n"
     ]
    }
   ],
   "source": [
    "#5. Contagem de valores nulos em cada coluna\n",
    "print(\"\\nContagem de valores nulos em cada coluna:\")\n",
    "print(df_original.isnull().sum())"
   ]
  },
  {
   "cell_type": "markdown",
   "metadata": {},
   "source": [
    "## Filtrando Colunas que Seram Utilizadas "
   ]
  },
  {
   "cell_type": "code",
   "execution_count": 8,
   "metadata": {},
   "outputs": [],
   "source": [
    "df = df_original[[\n",
    "  # Dimensão: Características do Individuo \n",
    "  \n",
    "  'C006', # Sexo\n",
    "  'C00702', # Mês de nascimento\n",
    "  'C00703',# Ano de nascimento   \n",
    "  'C008', # Idade do morador na data de referência\n",
    "\n",
    "  # Dimensão: Fatores Sociais e Ambientais \n",
    "     \n",
    "  'M01401', # Com quantos familiares ou parentes pode contar em momentos bons ou ruins                            \n",
    "  'M01501', # Com quantos amigos próximos ___ pode contar em momentos bons ou ruins (Sem considerar os familiares ou parentes\n",
    "  'E01602', #Qual era o rendimento bruto mensal ou retirada que ___ fazia normalmente nesse trabalho?(valor em dinheiro)\n",
    "  'E01601', #...recebia/fazia normalmente nesse trabalho rendimento/retirada em dinheiro?\n",
    "  'E01603', #...recebia/fazia normalmente nesse trabalho rendimento/retirada em produtos ou mercadorias?\n",
    "  'E01604', #Qual era o rendimento bruto mensal ou retirada que ___ fazia normalmente nesse trabalho?(valor estimado em produtos ou mercadorias)\n",
    "  'E01605', #...recebia/fazia normalmente nesse trabalho rendimento/retirada somente em benefícios ?\n",
    "  'E01801', #...recebia/fazia normalmente nesse(s) outro(s) trabalho(s) rendimento/retirada em dinheiro?\n",
    "  'E01802', #Qual era o rendimento bruto mensal ou retirada que ___ fazia normalmente nesse(s) outro(s) trabalho(s)?(valor em dinheiro)\n",
    "  'E01803', #...recebia/fazia normalmente nesse(s) outro(s) trabalho(s) rendimento/retirada em produtos ou mercadorias?\n",
    "  'E01804', #Qual era o rendimento bruto mensal ou retirada que ___ fazia normalmente nesse(s) outro(s) trabalho(s)?(valor estimado em produtos ou mercadorias)\n",
    "  'E01805', #...recebia/fazia normalmente nesse(s) outro(s) trabalho(s) rendimento/retirada somente em benefícios ?\n",
    "  'F001011', #Em (mês da pesquisa) ___ recebia normalmente rendimento de aposentadoria ou pensão de instituto de previdência federal (INSS), estadual, municipal, ou do governo federal, estadual, municipal?\n",
    "  'F001021', #Valor habitualmente recebido\n",
    "  'F007011', #Em (mês da pesquisa), ___ recebia normalmente rendimento de pensão alimentícia, doação ou mesada em dinheiro de pessoa que não morava no domicílio?\n",
    "  'F007021', #Valor habitualmente recebido\n",
    "  'F008011', #Em (mês da pesquisa), ___ recebia normalmente rendimento de aluguel ou arrendamento?\n",
    "  'F008021', #Valor habitualmente recebido\n",
    "  'VDF001',  #Em (mês da pesquisa), _______ recebia normalmente algum juro de caderneta de poupança e de outras aplicações financeiras, dividendos, programas sociais, seguro-desemprego, seguro defeso ou outros rendimentos? \n",
    "  'VDF00102', #Valor recebido em reais (VDF001)\n",
    "  'E01201', #Qual era a ocupação (cargo ou função) que ___ tinha nesse trabalho\n",
    "  'E01401', #Nesse trabalho, ___ era\n",
    "  'E014011', #Trabalhador não remunerado em ajuda a membro do domicílio ou parente \n",
    "  'E019', #Quantas horas ___ trabalhava normalmente, por semana, nesses outros trabalhos? \n",
    "  'E017', # Quantas horas ___ trabalhava normalmente, por semana, nesse trabalho?\n",
    "  'M005011', #Quantas horas trabalha(va) por dia, habitualmente, no período de 8 horas da noite e 5 horas da manhã\n",
    "  'M00601', #Com que frequência, habitualmente, o(a) Sr(a) trabalha(va) no horário entre 8 horas da noite e 5 horas da manhã em algum dos seus trabalhos\n",
    "  'D00901', # Qual foi o curso mais elevado que ___frequentou \n",
    "  'Q092',#***TEM DEPRESSÃO**Algum médico ou profissional de saúde mental (como psiquiatra ou psicólogo) já lhe deu o diagnóstico de depressão?\n",
    "  'Q09201',#Algum médico já lhe receitou algum medicamento para depressão?\n",
    "  'Q09202',#Nas duas últimas semanas o(a) senhor(a) usou algum medicamento para depressão?\n",
    "  'Q09301',#Que idade o(a) Sr(a) tinha no primeiro diagnóstico de depressão? \n",
    "  'Q094',#O(A) Sr(a) vai ao médico/serviço de saúde regularmente por causa da depressão ou só quando tem algum problema?\n",
    "  'Q09502',#Qual o principal motivo do(a) Sr(a) não visitar o médico/serviço de saúde regularmente por causa da depressão? \n",
    "  'Q09605',#Por causa da depressão Faz psicoterapia \n",
    "  'Q09606',#Por causa da depressão Toma medicamentos\n",
    "  'Q09607',#Por causa da depressão Faz uso de acupuntura, plantas medicinais e fitoterapia, homeopatia, meditação, yoga, tai chi chuan, liang gong ou alguma outra prática integrativa e complementar \n",
    "  'Q098',#Algum dos medicamentos para depressão foi obtido em serviço público de saúde? \n",
    "  'Q100',#O(A) Sr(a) pagou algum valor pelos medicamentos? \n",
    "  'Q10101',#Quando foi a última vez que o(a) Sr(a) recebeu atendimento médico por causa da depressão? \n",
    "  'Q10202',#Na última vez que recebeu assistência médica para depressão, onde o(a) Sr(a) foi atendido? \n",
    "  'Q104',#O(A) Sr(a) pagou algum valor por esse atendimento?\n",
    "  'Q105',#Esse atendimento foi feito pelo SUS? \n",
    "  'Q106',#Em algum dos atendimentos para depressão, houve encaminhamento para algum acompanhamento com profissional de saúde mental, como psiquiatra ou psicólogo? \n",
    "  'Q10701',#O(A) Sr(a) conseguiu ir às consultas com profissional especialista de saúde mental? \n",
    "  'Q109',#Em geral, em que grau a depressão limita as suas atividades habituais (tais como trabalhar, realizar afazeres domésticos, etc.)? \n",
    "  'A001',#Tipo do domicílio\n",
    "  'A002010',#Qual é o material que predomina na construção das paredes externas deste domicílio?\n",
    "  'A003010',#Material predominante na cobertura (telhado) do domicílio\n",
    "  'A004010',#Qual é o material que predomina no piso deste domicílio\n",
    "  'A01001',# Quantos cômodos têm este domicílio\n",
    "  'A011',#Quantos cômodos estão servindo permanentemente de dormitório para os moradores deste domicílio\n",
    "  'A005010',#Qual é a principal forma de abastecimento de água deste domicílio\n",
    "  'A005012',#Este domicílio está ligado à rede geral de distribuição de água? \n",
    "  'A00601',# A água utilizada neste domicílio chega\n",
    "  'A009010',# A água utilizada para beber neste domicílio é\n",
    "  'A01401',#Quantos banheiros (com chuveiro ou banheira e vaso sanitário ou privada) de uso exclusivo dos moradores existem neste domicílio, inclusive os localizados no terreno ou propriedade\n",
    "  'A01402',#Quantos banheiros (com chuveiro ou banheira e vaso sanitário ou privada) de uso comum a mais de um domicilio, existem neste terreno ou propriedade\n",
    "  'A01403',#Utiliza sanitário ou buraco para dejeções, inclusive os localizados no terreno ou na propriedade (cercado por paredes de qualquer material\n",
    "  'A01501',#Para onde vai o esgoto do banheiro? Ou Para onde vai o esgoto do sanitário ou do buraco para dejeções?\n",
    "  'A016010',#Qual o (principal) destino dado ao lixo\n",
    "  'J007', #Algum médico já deu o diagnóstico de alguma doença crônica, física ou mental, ou doença de longa duração (de mais de 6 meses de duração) \n",
    "  'Q11006', # Algum médico ou profissional de saúde (como psiquiatra ou psicólogo) já lhe deu o diagnóstico de outra doença mental, como transtorno de ansiedade, síndrome do pânico, esquizofrenia, transtorno bipolar, psicose ou TOC (Transtorno Obsessivo Compulsivo) etc? \n",
    "  'Q11007', # Diagnóstico de Esquizofrenia \n",
    "  'Q11008', # Diagnóstico de Transtorno bipolar \n",
    "  'Q11009', # Diagnóstico de TOC (Transtorno obsessivo compulsivo) \n",
    "  'Q11010', # Outro diagnóstico\n",
    "  'N00101', # Considerando saúde como um estado de bem-estar físico e mental, e não somente a ausência de doenças, como você avalia o seu estado de saúde? \n",
    "  \n",
    "  ####Dimensão: Hábitos de Saúde\n",
    "  \n",
    "  'P034', # Nos últimos três meses, o(a) Sr(a) praticou algum tipo de exercício físico ou esporte? \n",
    "  'P035', # Quantos dias por semana o(a) Sr(a) costuma  (costumava)praticar exercício físico ou esporte?\n",
    "  'P03701', #Em geral, no dia que o(a) Sr(a) pratica exercício ou esporte, quanto tempo em horas dura essa atividade? Horas \n",
    "  'P03702', # Em geral, no dia que o(a) Sr(a) pratica (praticava) exercício ou esporte, quanto tempo em minutos dura essa atividade?Minutos \n",
    "  'P036', # Qual o exercício físico ou esporte que o(a) Sr(a) pratica (praticava) com mais frequência? (Anotar apenas o primeiro citado) \n",
    "  'P027', # Com que frequência o(a) Sr(a) costuma consumir alguma bebida alcoólica?\n",
    "  'P02801', # Quantos dias por semana o(a) Sr(a) costuma consumir alguma bebida alcoólica? \n",
    "  'P029', #Em geral, no dia que o(a) Sr(a) bebe, quantas doses de bebida alcoólica o(a) Sr(a) consome? \n",
    "  'J00402', #  Qual foi o principal motivo de saúde que impediu de realizar suas atividades habituais nas duas últimas semanas \n",
    "  'J01101', # Quando consultou um médico pela última vez\n",
    "  'J014', # Nas duas últimas semanas, procurou algum lugar, serviço ou profissional de saúde para atendimento relacionado à própria saúde\n",
    "  'J01502', # Qual foi o motivo principal pelo qual procurou atendimento relacionado à própria saúde nas duas últimas semanas\n",
    "  'H024', # Orientações sobre alimentação saudável, boa higiene e sono adequado (dormir suficientemente)\n",
    "  'N010', # Nas duas últimas semanas, com que frequência o(a) Sr(a) teve problemas no sono, como dificuldade para adormecer, acordar frequentemente à noite ou dormir mais do que de costume?\n",
    "  \n",
    "  #### Dimensão: Antropometria \n",
    "  'P00102', # O(A) Sr(a) sabe seu peso? \n",
    "  'W00101', # Peso - 1ª pesagem (em kg)\n",
    "  'W00102', # Peso - 2ª pesagem (em kg)\n",
    "  'W00201', # Altura - 1ª medição (em cm)\n",
    "  'W00202', # Altura - 2ª medição (em cm)\n",
    "  'P00402', # O(A) Sr(a) sabe sua altura? (mesmo que seja valor aproximado) \n",
    "  'P00403', # Altura - Informada (em cm)\n",
    "  'P00601', # Ontem o(a) Sr(a) comeu arroz, macarrão, polenta, cuscuz ou milho verde. \n",
    "  'P00602', # Batata comum, mandioca/aipim/macaxeira, cará ou inhame.\n",
    "  'P00603', # Feijão, ervilha, lentilha ou grão de bico.\n",
    "  'P00604', # Carne de boi, porco, frango, peixe\n",
    "  'P00605', # Ovo (frito, cozido ou mexido ). \n",
    "  'P00607', # Alface, couve, brócolis, agrião ou espinfre.\n",
    "  'P00608', # Abóbora, cenoura, batata doce ou quiabo/caruru. \n",
    "  'P00609', # Tomate, pepino, abobrinha, berinjela, chuchu ou beterraba. \n",
    "  'P00610', # Mamão, manga, melão amarelo ou pequi. \n",
    "  'P00611', # Laranja, banana, maçã, abacaxi. \n",
    "  'P00612', # Leite\n",
    "  'P00613', # Amendoim, castanha de caju ou castanha do Brasil/Pará \n",
    "  'P00614', # ONTEM o(a) Sr(a) tomou ou comeu:Refrigerante\n",
    "  'P00615', # Suco de fruta em caixinha ou lata ou refresco em pó. \n",
    "  'P00616', # Bebida achocolatada ou iogurte com sabor. \n",
    "  'P00617', # Salgadinho de pacote ou biscoito/bolacha salgado.\n",
    "  'P00618', # Biscoito/bolacha doce ou recheado ou bolo de pacote. \n",
    "  'P00619', # Sorvete, chocolate, gelatina, flan ou outra sobremesa industrializada.\n",
    "  'P00620', # Salsicha, linguiça, mortadela ou presunto. \n",
    "  'P00621', # Pão de forma, de cachorro-quente ou de hambúrguer.\n",
    "  'P00622', # Margarina, maionese, ketchup ou outros molhos industrializados. \n",
    "  'P00623', # Macarrão instantâneo, sopa de pacote, lasanha congelada ou outro prato congelado comprado pronto industrilizado.\n",
    "  'P006', # Em quantos dias da semana o(a) Sr(a) costuma comer feijão? \n",
    "  'P00901', # Em quantos dias da semana, o(a) Sr(a) costuma comer pelo menos um tipo de verdura ou legume (sem contar batata, mandioca, cará ou inhame) como alface, tomate, couve, cenoura, chuchu, berinjela, abobrinha? \n",
    "  'P01001', # Em geral, o(a) Sr(a) costuma comer esse tipo de verdura ou legume: \n",
    "  'P01101', # Em quantos dias da semana o(a) Sr(a) costuma comer carne vermelha (boi, porco, cabrito, bode, ovelha etc.)? \n",
    "  'P013', # Em quantos dias da semana o(a) Sr(a) costuma comer frango/galinha? \n",
    "  'P015', #Em quantos dias da semana o(a) Sr(a) costuma comer peixe? \n",
    "  'P02001', # Em quantos dias da semana o(a) Sr(a) costuma tomar suco de caixinha/lata ou refresco em pó ? \n",
    "  'P02101', # Que tipo de suco de caixinha/lata ou refresco em pó o(a) Sr(a) costuma tomar? (Ler as opções de resposta) \n",
    "  'P01601', # Em quantos dias da semana o(a) Sr(a) costuma tomar suco de fruta natural (incluída a polpa de fruta congelada)? \n",
    "  'P018', # Em quantos dias da semana o(a) Sr(a) costuma comer frutas? \n",
    "  'P019', # Em geral, quantas vezes por dia o(a) Sr(a) come frutas? \n",
    "  'P02002', #  Em quantos dias da semana o(a) Sr(a) costuma tomar refrigerante? \n",
    "  'P02102', # Que tipo de refrigerante o(a) Sr(a) costuma tomar? \n",
    "  'P023', # Em quantos dias da semana o(a) Sr(a) costuma tomar leite? (de origem animal: vaca, cabra, búfala etc.) \n",
    "  'P02401', # Que tipo de leite o(a) Sr(a) costuma tomar? \n",
    "  'P02501', # Em quantos dias da semana o(a) Sr(a) costuma comer alimentos doces como biscoito/bolacha recheado, chocolate, gelatina, balas e outros?\n",
    "  'P02602', # Em quantos dias da semana o(a) Sr(a) costuma substituir a refeição do almoço por lanches rápidos como sanduíches, salgados, pizza, cachorro quente, etc? \n",
    "  'P02601', # Considerando a comida preparada na hora e os alimentos industrializados, o(a) Sr(a) acha que o seu consumo de sal é:\n",
    "\n",
    "\n",
    "\n",
    "\n",
    "  \n",
    "  \n",
    "  ]].copy() "
   ]
  },
  {
   "cell_type": "markdown",
   "metadata": {},
   "source": [
    "##Dicionáro das colunas filtradas\n",
    "\n",
    "| Coluna     | Significado                                                                                                                                                 |\n",
    "|------------|-------------------------------------------------------------------------------------------------------------------------------------------------------------|\n",
    "| C006       | Sexo                                                                                                                                                        |\n",
    "| C00702     | Mês de nascimento                                                                                                                                          |\n",
    "| C00703     | Ano de nascimento                                                                                                                                          |\n",
    "| C008       | Idade do morador na data de referência                                                                                                                     |\n",
    "| M01401     | Quantidade de familiares ou parentes em quem pode contar em momentos bons ou ruins                                                                          |\n",
    "| M01501     | Quantidade de amigos próximos em quem pode contar em momentos bons ou ruins (Sem considerar familiares ou parentes)                                         |\n",
    "| E01602     | Rendimento bruto mensal ou retirada em dinheiro no trabalho principal                                                                                      |\n",
    "| E01601     | Rendimento em dinheiro no trabalho principal                                                                                                                |\n",
    "| E01603     | Rendimento em produtos ou mercadorias no trabalho principal                                                                                                 |\n",
    "| E01604     | Rendimento estimado em produtos ou mercadorias no trabalho principal                                                                                       |\n",
    "| E01605     | Rendimento somente em benefícios no trabalho principal                                                                                                      |\n",
    "| E01801     | Rendimento em dinheiro em outros trabalhos                                                                                                                  |\n",
    "| E01802     | Rendimento bruto mensal ou retirada em dinheiro em outros trabalhos                                                                                         |\n",
    "| E01803     | Rendimento em produtos ou mercadorias em outros trabalhos                                                                                                   |\n",
    "| E01804     | Rendimento estimado em produtos ou mercadorias em outros trabalhos                                                                                          |\n",
    "| E01805     | Rendimento somente em benefícios em outros trabalhos                                                                                                        |\n",
    "| F001011    | Recebimento de rendimento de aposentadoria ou pensão no mês da pesquisa                                                                                    |\n",
    "| F001021    | Valor habitualmente recebido de aposentadoria ou pensão                                                                                                     |\n",
    "| F007011    | Recebimento de rendimento de pensão alimentícia, doação ou mesada em dinheiro de pessoa que não morava no domicílio                                       |\n",
    "| F007021    | Valor habitualmente recebido de pensão alimentícia, doação ou mesada em dinheiro                                                                           |\n",
    "| F008011    | Recebimento de rendimento de aluguel ou arrendamento                                                                                                        |\n",
    "| F008021    | Valor habitualmente recebido de aluguel ou arrendamento                                                                                                     |\n",
    "| VDF001     | Recebimento de juros de caderneta de poupança e outras aplicações financeiras                                                                               |\n",
    "| VDF00102   | Valor recebido em reais de juros e outras aplicações financeiras                                                                                            |\n",
    "| E01201     | Ocupação no trabalho principal                                                                                                                              |\n",
    "| E01401     | Condição de trabalho no trabalho principal                                                                                                                   |\n",
    "| E014011    | Trabalhador não remunerado em ajuda a membro do domicílio ou parente                                                                                        |\n",
    "| E019       | Horas trabalhadas por semana em outros trabalhos                                                                                                             |\n",
    "| E017       | Horas trabalhadas por semana no trabalho principal                                                                                                           |\n",
    "| M005011    | Horas trabalhadas por dia no período de 8 horas da noite e 5 horas da manhã                                                                                 |\n",
    "| M00601     | Frequência de trabalho no horário entre 8 horas da noite e 5 horas da manhã                                                                                 |\n",
    "| D00901     | Curso mais elevado frequentado                                                                                                                              |\n",
    "| Q092       | Diagnóstico de depressão por médico ou profissional de saúde mental                                                                                         |\n",
    "| Q09201     | Recebimento de medicamento para depressão prescrito por médico                                                                                              |\n",
    "| Q09202     | Uso de medicamento para depressão nas duas últimas semanas                                                                                                   |\n",
    "| Q09301     | Idade no primeiro diagnóstico de depressão                                                                                                                  |\n",
    "| Q094       | Frequência de visitas ao médico/serviço de saúde por causa da depressão                                                                                     |\n",
    "| Q09502     | Motivo principal para não visitar regularmente o médico/serviço de saúde por causa da depressão                                                              |\n",
    "| Q09605     | Participação em psicoterapia por causa da depressão                                                                                                          |\n",
    "| Q09606     | Uso de medicamentos por causa da depressão                                                                                                                   |\n",
    "| Q09607     | Utilização de práticas integrativas e complementares por causa da depressão                                                                                  |\n",
    "| Q098       | Obtenção de medicamentos para depressão em serviço público de saúde                                                                                          |\n",
    "| Q100       | Pagamento de valor pelos medicamentos para depressão                                                                                                          |\n",
    "| Q10101     | Última consulta médica por causa da depressão                                                                                                                |\n",
    "| Q10202     | Local da última assistência médica para depressão                                                                                                             |\n",
    "| Q104       | Pagamento de valor pela última assistência médica para depressão                                                                                             |\n",
    "| Q105       | Atendimento pelo SUS na última assistência médica para depressão                                                                                              |\n",
    "| Q106       | Encaminhamento para acompanhamento com profissional de saúde mental em algum atendimento para depressão                                                      |\n",
    "| Q10701     | Frequência de ida às consultas com profissional especialista de saúde mental                                                                                  |\n",
    "| Q109       | Grau de limitação das atividades habituais devido à depressão                                                                                                 |\n",
    "| A001       | Tipo do domicílio                                                                                                                                           |\n",
    "| A002010    | Material predominante na construção das paredes externas do domicílio                                                                                       |\n",
    "| A003010    | Material predominante na cobertura (telhado) do domicílio                                                                                                    |\n",
    "| A004010    | Material predominante no piso do domicílio                                                                                                                  |\n",
    "| A01001     | Quantidade de cômodos do domicílio                                                                                                                          |\n",
    "| A011       | Quantidade de cômodos servindo permanentemente de dormitório para os moradores do domicílio                                                                 |\n",
    "| A005010    | Principal forma de abastecimento de água do domicílio                                                                                                        |\n",
    "| A005012    | Ligação do domicílio à rede geral de distribuição de água                                                                                                    |\n",
    "| A00601     | Chegada da água utilizada no domicílio                                                                                                                       |\n",
    "| A009010    | Tipo de água utilizada para beber no domicílio                                                                                                               |\n",
    "| A01401     | Quantidade de banheiros de uso exclusivo dos moradores no domicílio                                                                                          |\n",
    "| A01402     | Quantidade de banheiros de uso comum a mais de um domicílio no terreno ou propriedade                                                                        |\n",
    "| A01403     | Utilização de sanitário ou buraco para dejeções no domicílio                                                                                                 |\n",
    "| A01501     | Destino do esgoto do banheiro no domicílio                                                                                                                   |\n",
    "| A016010    | Destino principal dado ao lixo do domicílio                                                                                                                  |\n",
    "| J007       | Diagnóstico de doença crônica, física ou mental, ou doença de longa duração                                                                                 |\n",
    "| Q11006     | Diagnóstico de outra doença mental por médico ou profissional de saúde mental                                                                               |\n",
    "| Q11007     | Diagnóstico de esquizofrenia                                                                                                                                 |\n",
    "| Q11008     | Diagnóstico de transtorno bipolar                                                                                                                            |\n",
    "| Q11009     | Diagnóstico de TOC (Transtorno obsessivo-compulsivo)                                                                                                         |\n",
    "| Q11010     | Outro diagnóstico de doença mental                                                                                                                           |"
   ]
  },
  {
   "cell_type": "markdown",
   "metadata": {},
   "source": [
    "# Analise dos Dados Filtrados "
   ]
  },
  {
   "cell_type": "code",
   "execution_count": 9,
   "metadata": {},
   "outputs": [
    {
     "name": "stdout",
     "output_type": "stream",
     "text": [
      "Primeiras linhas do DataFrame:\n"
     ]
    },
    {
     "data": {
      "text/html": [
       "<div>\n",
       "<style scoped>\n",
       "    .dataframe tbody tr th:only-of-type {\n",
       "        vertical-align: middle;\n",
       "    }\n",
       "\n",
       "    .dataframe tbody tr th {\n",
       "        vertical-align: top;\n",
       "    }\n",
       "\n",
       "    .dataframe thead th {\n",
       "        text-align: right;\n",
       "    }\n",
       "</style>\n",
       "<table border=\"1\" class=\"dataframe\">\n",
       "  <thead>\n",
       "    <tr style=\"text-align: right;\">\n",
       "      <th></th>\n",
       "      <th>C006</th>\n",
       "      <th>C00702</th>\n",
       "      <th>C00703</th>\n",
       "      <th>C008</th>\n",
       "      <th>M01401</th>\n",
       "      <th>M01501</th>\n",
       "      <th>E01602</th>\n",
       "      <th>E01601</th>\n",
       "      <th>E01603</th>\n",
       "      <th>E01604</th>\n",
       "      <th>...</th>\n",
       "      <th>P01601</th>\n",
       "      <th>P018</th>\n",
       "      <th>P019</th>\n",
       "      <th>P02002</th>\n",
       "      <th>P02102</th>\n",
       "      <th>P023</th>\n",
       "      <th>P02401</th>\n",
       "      <th>P02501</th>\n",
       "      <th>P02602</th>\n",
       "      <th>P02601</th>\n",
       "    </tr>\n",
       "  </thead>\n",
       "  <tbody>\n",
       "    <tr>\n",
       "      <th>0</th>\n",
       "      <td>2.0</td>\n",
       "      <td>11.0</td>\n",
       "      <td>1963.0</td>\n",
       "      <td>55.0</td>\n",
       "      <td>3.0</td>\n",
       "      <td>0.0</td>\n",
       "      <td>100.0</td>\n",
       "      <td>1.0</td>\n",
       "      <td>NaN</td>\n",
       "      <td>NaN</td>\n",
       "      <td>...</td>\n",
       "      <td>0.0</td>\n",
       "      <td>3.0</td>\n",
       "      <td>NaN</td>\n",
       "      <td>1.0</td>\n",
       "      <td>2.0</td>\n",
       "      <td>7.0</td>\n",
       "      <td>2.0</td>\n",
       "      <td>0.0</td>\n",
       "      <td>0.0</td>\n",
       "      <td>3.0</td>\n",
       "    </tr>\n",
       "    <tr>\n",
       "      <th>1</th>\n",
       "      <td>1.0</td>\n",
       "      <td>4.0</td>\n",
       "      <td>1950.0</td>\n",
       "      <td>69.0</td>\n",
       "      <td>NaN</td>\n",
       "      <td>NaN</td>\n",
       "      <td>NaN</td>\n",
       "      <td>NaN</td>\n",
       "      <td>NaN</td>\n",
       "      <td>NaN</td>\n",
       "      <td>...</td>\n",
       "      <td>NaN</td>\n",
       "      <td>NaN</td>\n",
       "      <td>NaN</td>\n",
       "      <td>NaN</td>\n",
       "      <td>NaN</td>\n",
       "      <td>NaN</td>\n",
       "      <td>NaN</td>\n",
       "      <td>NaN</td>\n",
       "      <td>NaN</td>\n",
       "      <td>NaN</td>\n",
       "    </tr>\n",
       "    <tr>\n",
       "      <th>2</th>\n",
       "      <td>1.0</td>\n",
       "      <td>9.0</td>\n",
       "      <td>1987.0</td>\n",
       "      <td>31.0</td>\n",
       "      <td>NaN</td>\n",
       "      <td>NaN</td>\n",
       "      <td>1000.0</td>\n",
       "      <td>1.0</td>\n",
       "      <td>NaN</td>\n",
       "      <td>NaN</td>\n",
       "      <td>...</td>\n",
       "      <td>NaN</td>\n",
       "      <td>NaN</td>\n",
       "      <td>NaN</td>\n",
       "      <td>NaN</td>\n",
       "      <td>NaN</td>\n",
       "      <td>NaN</td>\n",
       "      <td>NaN</td>\n",
       "      <td>NaN</td>\n",
       "      <td>NaN</td>\n",
       "      <td>NaN</td>\n",
       "    </tr>\n",
       "    <tr>\n",
       "      <th>3</th>\n",
       "      <td>1.0</td>\n",
       "      <td>99.0</td>\n",
       "      <td>9999.0</td>\n",
       "      <td>9.0</td>\n",
       "      <td>NaN</td>\n",
       "      <td>NaN</td>\n",
       "      <td>NaN</td>\n",
       "      <td>NaN</td>\n",
       "      <td>NaN</td>\n",
       "      <td>NaN</td>\n",
       "      <td>...</td>\n",
       "      <td>NaN</td>\n",
       "      <td>NaN</td>\n",
       "      <td>NaN</td>\n",
       "      <td>NaN</td>\n",
       "      <td>NaN</td>\n",
       "      <td>NaN</td>\n",
       "      <td>NaN</td>\n",
       "      <td>NaN</td>\n",
       "      <td>NaN</td>\n",
       "      <td>NaN</td>\n",
       "    </tr>\n",
       "    <tr>\n",
       "      <th>4</th>\n",
       "      <td>2.0</td>\n",
       "      <td>99.0</td>\n",
       "      <td>9999.0</td>\n",
       "      <td>6.0</td>\n",
       "      <td>NaN</td>\n",
       "      <td>NaN</td>\n",
       "      <td>NaN</td>\n",
       "      <td>NaN</td>\n",
       "      <td>NaN</td>\n",
       "      <td>NaN</td>\n",
       "      <td>...</td>\n",
       "      <td>NaN</td>\n",
       "      <td>NaN</td>\n",
       "      <td>NaN</td>\n",
       "      <td>NaN</td>\n",
       "      <td>NaN</td>\n",
       "      <td>NaN</td>\n",
       "      <td>NaN</td>\n",
       "      <td>NaN</td>\n",
       "      <td>NaN</td>\n",
       "      <td>NaN</td>\n",
       "    </tr>\n",
       "  </tbody>\n",
       "</table>\n",
       "<p>5 rows × 133 columns</p>\n",
       "</div>"
      ],
      "text/plain": [
       "   C006  C00702  C00703  C008  M01401  M01501  E01602  E01601  E01603  E01604  \\\n",
       "0   2.0    11.0  1963.0  55.0     3.0     0.0   100.0     1.0     NaN     NaN   \n",
       "1   1.0     4.0  1950.0  69.0     NaN     NaN     NaN     NaN     NaN     NaN   \n",
       "2   1.0     9.0  1987.0  31.0     NaN     NaN  1000.0     1.0     NaN     NaN   \n",
       "3   1.0    99.0  9999.0   9.0     NaN     NaN     NaN     NaN     NaN     NaN   \n",
       "4   2.0    99.0  9999.0   6.0     NaN     NaN     NaN     NaN     NaN     NaN   \n",
       "\n",
       "   ...  P01601  P018  P019  P02002  P02102  P023  P02401  P02501  P02602  \\\n",
       "0  ...     0.0   3.0   NaN     1.0     2.0   7.0     2.0     0.0     0.0   \n",
       "1  ...     NaN   NaN   NaN     NaN     NaN   NaN     NaN     NaN     NaN   \n",
       "2  ...     NaN   NaN   NaN     NaN     NaN   NaN     NaN     NaN     NaN   \n",
       "3  ...     NaN   NaN   NaN     NaN     NaN   NaN     NaN     NaN     NaN   \n",
       "4  ...     NaN   NaN   NaN     NaN     NaN   NaN     NaN     NaN     NaN   \n",
       "\n",
       "   P02601  \n",
       "0     3.0  \n",
       "1     NaN  \n",
       "2     NaN  \n",
       "3     NaN  \n",
       "4     NaN  \n",
       "\n",
       "[5 rows x 133 columns]"
      ]
     },
     "execution_count": 9,
     "metadata": {},
     "output_type": "execute_result"
    }
   ],
   "source": [
    "# 1. Visualização das primeiras linhas do DataFrame\n",
    "print(\"Primeiras linhas do DataFrame:\")\n",
    "df.head()\n"
   ]
  },
  {
   "cell_type": "code",
   "execution_count": 10,
   "metadata": {},
   "outputs": [
    {
     "name": "stdout",
     "output_type": "stream",
     "text": [
      "Temos 293726 linhas e 133 colunas.\n"
     ]
    }
   ],
   "source": [
    "# 2. Número de linhas e colunas\n",
    "print(\"Temos\", df.shape[0], \"linhas e\", df.shape[1], \"colunas.\")"
   ]
  },
  {
   "cell_type": "code",
   "execution_count": 11,
   "metadata": {},
   "outputs": [
    {
     "name": "stdout",
     "output_type": "stream",
     "text": [
      "\n",
      "Informações gerais sobre o DataFrame:\n",
      "<class 'pandas.core.frame.DataFrame'>\n",
      "RangeIndex: 293726 entries, 0 to 293725\n",
      "Columns: 133 entries, C006 to P02601\n",
      "dtypes: float64(133)\n",
      "memory usage: 298.0 MB\n",
      "None\n"
     ]
    }
   ],
   "source": [
    "# 3. Informações gerais sobre o DataFrame\n",
    "print(\"\\nInformações gerais sobre o DataFrame:\")\n",
    "print(df.info())"
   ]
  },
  {
   "cell_type": "code",
   "execution_count": 12,
   "metadata": {},
   "outputs": [
    {
     "name": "stdout",
     "output_type": "stream",
     "text": [
      "\n",
      "Contagem de valores únicos em cada coluna:\n"
     ]
    },
    {
     "name": "stdout",
     "output_type": "stream",
     "text": [
      "C006        2\n",
      "C00702     13\n",
      "C00703    109\n",
      "C008      109\n",
      "M01401      4\n",
      "         ... \n",
      "P023        8\n",
      "P02401      3\n",
      "P02501      8\n",
      "P02602      8\n",
      "P02601      5\n",
      "Length: 133, dtype: int64\n"
     ]
    }
   ],
   "source": [
    "# 4. Contagem de valores únicos em cada coluna\n",
    "print(\"\\nContagem de valores únicos em cada coluna:\")\n",
    "print(df.nunique())# 4. Contagem de valores únicos em cada coluna\n"
   ]
  },
  {
   "cell_type": "code",
   "execution_count": 13,
   "metadata": {},
   "outputs": [
    {
     "name": "stdout",
     "output_type": "stream",
     "text": [
      "\n",
      "Contagem de valores nulos em cada coluna:\n",
      "C006       14344\n",
      "C00702     14344\n",
      "C00703     14344\n",
      "C008       14344\n",
      "M01401    202880\n",
      "           ...  \n",
      "P023      202880\n",
      "P02401    230622\n",
      "P02501    202880\n",
      "P02602    202880\n",
      "P02601    202880\n",
      "Length: 133, dtype: int64\n"
     ]
    }
   ],
   "source": [
    "#5. Contagem de valores nulos em cada coluna\n",
    "print(\"\\nContagem de valores nulos em cada coluna:\")\n",
    "print(df.isnull().sum())"
   ]
  },
  {
   "cell_type": "markdown",
   "metadata": {},
   "source": [
    "> Gerando relatório de perfil da base\n"
   ]
  },
  {
   "cell_type": "code",
   "execution_count": 14,
   "metadata": {},
   "outputs": [
    {
     "ename": "NameError",
     "evalue": "name 'profile' is not defined",
     "output_type": "error",
     "traceback": [
      "\u001b[1;31m---------------------------------------------------------------------------\u001b[0m",
      "\u001b[1;31mNameError\u001b[0m                                 Traceback (most recent call last)",
      "Cell \u001b[1;32mIn[14], line 1\u001b[0m\n\u001b[1;32m----> 1\u001b[0m \u001b[43mprofile\u001b[49m\u001b[38;5;241m.\u001b[39mto_file(\u001b[38;5;124m\"\u001b[39m\u001b[38;5;124manalise_pns.html\u001b[39m\u001b[38;5;124m\"\u001b[39m)\n",
      "\u001b[1;31mNameError\u001b[0m: name 'profile' is not defined"
     ]
    }
   ],
   "source": [
    "profile.to_file(\"analise_pns.html\")\n"
   ]
  },
  {
   "cell_type": "code",
   "execution_count": 7,
   "metadata": {
    "executionInfo": {
     "elapsed": 79,
     "status": "ok",
     "timestamp": 1708345419851,
     "user": {
      "displayName": "Pedro Rodrigues",
      "userId": "13325411992293832064"
     },
     "user_tz": 180
    },
    "id": "YY6R9PTmr8o2"
   },
   "outputs": [],
   "source": [
    "mapeamento = {\n",
    "    'V0001' : 'Estado',\n",
    "    'C008' : 'idade',\n",
    "    'Q092': 'Tem depressão?',\n",
    "    'E001' : 'Trabalha?',\n",
    "    'C006' : 'Sexo'\n",
    "}\n",
    "\n",
    "df.rename(columns=mapeamento, inplace=True)"
   ]
  },
  {
   "cell_type": "code",
   "execution_count": 8,
   "metadata": {
    "colab": {
     "base_uri": "https://localhost:8080/",
     "height": 424
    },
    "executionInfo": {
     "elapsed": 79,
     "status": "ok",
     "timestamp": 1708345419852,
     "user": {
      "displayName": "Pedro Rodrigues",
      "userId": "13325411992293832064"
     },
     "user_tz": 180
    },
    "id": "YA1odMZjQkHT",
    "outputId": "4f3c2f19-e431-487c-e487-abdc2bd4d3c0"
   },
   "outputs": [
    {
     "data": {
      "text/html": [
       "<div>\n",
       "<style scoped>\n",
       "    .dataframe tbody tr th:only-of-type {\n",
       "        vertical-align: middle;\n",
       "    }\n",
       "\n",
       "    .dataframe tbody tr th {\n",
       "        vertical-align: top;\n",
       "    }\n",
       "\n",
       "    .dataframe thead th {\n",
       "        text-align: right;\n",
       "    }\n",
       "</style>\n",
       "<table border=\"1\" class=\"dataframe\">\n",
       "  <thead>\n",
       "    <tr style=\"text-align: right;\">\n",
       "      <th></th>\n",
       "      <th>idade</th>\n",
       "      <th>Estado</th>\n",
       "      <th>Tem depressão?</th>\n",
       "      <th>Sexo</th>\n",
       "      <th>Trabalha?</th>\n",
       "    </tr>\n",
       "  </thead>\n",
       "  <tbody>\n",
       "    <tr>\n",
       "      <th>0</th>\n",
       "      <td>55.0</td>\n",
       "      <td>11</td>\n",
       "      <td>1.0</td>\n",
       "      <td>2.0</td>\n",
       "      <td>1.0</td>\n",
       "    </tr>\n",
       "    <tr>\n",
       "      <th>1</th>\n",
       "      <td>69.0</td>\n",
       "      <td>11</td>\n",
       "      <td>NaN</td>\n",
       "      <td>1.0</td>\n",
       "      <td>2.0</td>\n",
       "    </tr>\n",
       "    <tr>\n",
       "      <th>2</th>\n",
       "      <td>31.0</td>\n",
       "      <td>11</td>\n",
       "      <td>NaN</td>\n",
       "      <td>1.0</td>\n",
       "      <td>1.0</td>\n",
       "    </tr>\n",
       "    <tr>\n",
       "      <th>3</th>\n",
       "      <td>9.0</td>\n",
       "      <td>11</td>\n",
       "      <td>NaN</td>\n",
       "      <td>1.0</td>\n",
       "      <td>NaN</td>\n",
       "    </tr>\n",
       "    <tr>\n",
       "      <th>4</th>\n",
       "      <td>6.0</td>\n",
       "      <td>11</td>\n",
       "      <td>NaN</td>\n",
       "      <td>2.0</td>\n",
       "      <td>NaN</td>\n",
       "    </tr>\n",
       "    <tr>\n",
       "      <th>...</th>\n",
       "      <td>...</td>\n",
       "      <td>...</td>\n",
       "      <td>...</td>\n",
       "      <td>...</td>\n",
       "      <td>...</td>\n",
       "    </tr>\n",
       "    <tr>\n",
       "      <th>293721</th>\n",
       "      <td>49.0</td>\n",
       "      <td>53</td>\n",
       "      <td>NaN</td>\n",
       "      <td>2.0</td>\n",
       "      <td>1.0</td>\n",
       "    </tr>\n",
       "    <tr>\n",
       "      <th>293722</th>\n",
       "      <td>84.0</td>\n",
       "      <td>53</td>\n",
       "      <td>NaN</td>\n",
       "      <td>1.0</td>\n",
       "      <td>2.0</td>\n",
       "    </tr>\n",
       "    <tr>\n",
       "      <th>293723</th>\n",
       "      <td>21.0</td>\n",
       "      <td>53</td>\n",
       "      <td>NaN</td>\n",
       "      <td>1.0</td>\n",
       "      <td>1.0</td>\n",
       "    </tr>\n",
       "    <tr>\n",
       "      <th>293724</th>\n",
       "      <td>13.0</td>\n",
       "      <td>53</td>\n",
       "      <td>NaN</td>\n",
       "      <td>2.0</td>\n",
       "      <td>NaN</td>\n",
       "    </tr>\n",
       "    <tr>\n",
       "      <th>293725</th>\n",
       "      <td>NaN</td>\n",
       "      <td>53</td>\n",
       "      <td>NaN</td>\n",
       "      <td>NaN</td>\n",
       "      <td>NaN</td>\n",
       "    </tr>\n",
       "  </tbody>\n",
       "</table>\n",
       "<p>293726 rows × 5 columns</p>\n",
       "</div>"
      ],
      "text/plain": [
       "        idade  Estado  Tem depressão?  Sexo  Trabalha?\n",
       "0        55.0      11             1.0   2.0        1.0\n",
       "1        69.0      11             NaN   1.0        2.0\n",
       "2        31.0      11             NaN   1.0        1.0\n",
       "3         9.0      11             NaN   1.0        NaN\n",
       "4         6.0      11             NaN   2.0        NaN\n",
       "...       ...     ...             ...   ...        ...\n",
       "293721   49.0      53             NaN   2.0        1.0\n",
       "293722   84.0      53             NaN   1.0        2.0\n",
       "293723   21.0      53             NaN   1.0        1.0\n",
       "293724   13.0      53             NaN   2.0        NaN\n",
       "293725    NaN      53             NaN   NaN        NaN\n",
       "\n",
       "[293726 rows x 5 columns]"
      ]
     },
     "execution_count": 8,
     "metadata": {},
     "output_type": "execute_result"
    }
   ],
   "source": [
    "df[['idade', 'Estado', 'Tem depressão?', 'Sexo', 'Trabalha?']]"
   ]
  },
  {
   "cell_type": "markdown",
   "metadata": {
    "id": "y7t1jmyrQUz0"
   },
   "source": [
    "> **Verificando valores únicos nas colunas utilizadas**"
   ]
  },
  {
   "cell_type": "code",
   "execution_count": 9,
   "metadata": {
    "colab": {
     "base_uri": "https://localhost:8080/"
    },
    "executionInfo": {
     "elapsed": 69,
     "status": "ok",
     "timestamp": 1708345419853,
     "user": {
      "displayName": "Pedro Rodrigues",
      "userId": "13325411992293832064"
     },
     "user_tz": 180
    },
    "id": "BxnnwJjZQr6b",
    "outputId": "67c41e7f-bea4-4088-f379-c50c2b0a622f"
   },
   "outputs": [
    {
     "name": "stdout",
     "output_type": "stream",
     "text": [
      "Valores únicos em idade: [ 55.  69.  31.   9.   6.   4.  33.  17.  15.  19.  45.  78.  28.  25.\n",
      "  26.   7.   3.  58.   1.  81.  41.  54.  22.  37.  38.  14.  27.  52.\n",
      "  36.  56.  nan  72.  53.  50.  60.  35.  30.  21.  23.  42.   0.  49.\n",
      "  18.  24.  32.  66.  47.  20.  29.  40.  10.   8.  13.  63.  77.  65.\n",
      "  68.  61.  59.  39.  12.  11.  48.  73.  64.  44.  57.  34.  67.  16.\n",
      "  51.  46.  62.   5.  85.  74.   2.  76.  75.  43.  94.  80.  71.  70.\n",
      "  84.  79.  88.  92.  83.  90. 102.  86.  87.  89.  82.  91.  97.  93.\n",
      "  95.  99. 101. 100.  98. 103. 104. 107.  96. 106. 105. 112.]\n",
      "\n",
      "Valores únicos em Tem depressão?: [ 1. nan  2.]\n",
      "\n",
      "Valores únicos em Estado: [11 12 13 14 15 16 17 21 22 23 24 25 26 27 28 29 31 32 33 35 41 42 43 50\n",
      " 51 52 53]\n",
      "\n",
      "Valores únicos em Trabalha?: [ 1.  2. nan]\n",
      "\n",
      "Valores únicos em Sexo: [ 2.  1. nan]\n",
      "\n"
     ]
    }
   ],
   "source": [
    "for column in df[['idade', 'Tem depressão?', 'Estado', 'Trabalha?', 'Sexo']]:\n",
    "    unique_values = df[column].unique()\n",
    "    print(f'Valores únicos em {column}: {unique_values}')\n",
    "    print()\n"
   ]
  },
  {
   "cell_type": "code",
   "execution_count": 10,
   "metadata": {
    "colab": {
     "base_uri": "https://localhost:8080/"
    },
    "executionInfo": {
     "elapsed": 61,
     "status": "ok",
     "timestamp": 1708345419854,
     "user": {
      "displayName": "Pedro Rodrigues",
      "userId": "13325411992293832064"
     },
     "user_tz": 180
    },
    "id": "4CMBxTJoRh4a",
    "outputId": "57b05a90-7f9e-467d-c524-363c4a0915d0"
   },
   "outputs": [
    {
     "name": "stdout",
     "output_type": "stream",
     "text": [
      "<class 'pandas.core.frame.DataFrame'>\n",
      "RangeIndex: 293726 entries, 0 to 293725\n",
      "Data columns (total 5 columns):\n",
      " #   Column          Non-Null Count   Dtype  \n",
      "---  ------          --------------   -----  \n",
      " 0   idade           279382 non-null  float64\n",
      " 1   Estado          293726 non-null  int64  \n",
      " 2   Tem depressão?  90846 non-null   float64\n",
      " 3   Trabalha?       225563 non-null  float64\n",
      " 4   Sexo            279382 non-null  float64\n",
      "dtypes: float64(4), int64(1)\n",
      "memory usage: 11.2 MB\n"
     ]
    }
   ],
   "source": [
    "df[['idade', 'Estado', 'Tem depressão?', 'Trabalha?', 'Sexo']].info()\n"
   ]
  },
  {
   "cell_type": "markdown",
   "metadata": {},
   "source": [
    "## Tratando Atributos\n",
    "\n"
   ]
  },
  {
   "cell_type": "markdown",
   "metadata": {},
   "source": [
    "> **Coneventendo Colunas para inteiro**"
   ]
  },
  {
   "cell_type": "code",
   "execution_count": 11,
   "metadata": {},
   "outputs": [],
   "source": [
    "numeric_columns = df.select_dtypes(include='number').columns\n",
    "df[numeric_columns] = df[numeric_columns].apply(pd.to_numeric, errors='coerce').astype('Int64')"
   ]
  },
  {
   "cell_type": "markdown",
   "metadata": {},
   "source": [
    "> **Transformando atributos numericos**\n"
   ]
  },
  {
   "cell_type": "code",
   "execution_count": 12,
   "metadata": {},
   "outputs": [],
   "source": [
    "df['Trabalha?'] = df['Trabalha?'].map({1: 'Trabalha', 2: 'Não Trabalha'})\n",
    "df['Tem depressão?'] = df['Tem depressão?'].map({1: 'Sim', 2: 'Não'})\n",
    "df['Sexo'] = df['Sexo'].map({1: 'Homem', 2: 'Mulher'})"
   ]
  },
  {
   "cell_type": "markdown",
   "metadata": {},
   "source": [
    "> **Preenchendo valores vazios com \"Não informado\".**"
   ]
  },
  {
   "cell_type": "code",
   "execution_count": 13,
   "metadata": {},
   "outputs": [
    {
     "name": "stderr",
     "output_type": "stream",
     "text": [
      "C:\\Users\\maype\\AppData\\Local\\Temp\\ipykernel_4900\\3135688977.py:1: FutureWarning: DataFrame.applymap has been deprecated. Use DataFrame.map instead.\n",
      "  df[['idade', 'Estado', 'Tem depressão?', 'Trabalha?', 'Sexo']] = df[['idade', 'Estado', 'Tem depressão?', 'Trabalha?', 'Sexo']].applymap(lambda x: 'Não informado' if pd.isna(x) else x)\n"
     ]
    },
    {
     "data": {
      "text/html": [
       "<div>\n",
       "<style scoped>\n",
       "    .dataframe tbody tr th:only-of-type {\n",
       "        vertical-align: middle;\n",
       "    }\n",
       "\n",
       "    .dataframe tbody tr th {\n",
       "        vertical-align: top;\n",
       "    }\n",
       "\n",
       "    .dataframe thead th {\n",
       "        text-align: right;\n",
       "    }\n",
       "</style>\n",
       "<table border=\"1\" class=\"dataframe\">\n",
       "  <thead>\n",
       "    <tr style=\"text-align: right;\">\n",
       "      <th></th>\n",
       "      <th>idade</th>\n",
       "      <th>Estado</th>\n",
       "      <th>Tem depressão?</th>\n",
       "      <th>Trabalha?</th>\n",
       "      <th>Sexo</th>\n",
       "    </tr>\n",
       "  </thead>\n",
       "  <tbody>\n",
       "    <tr>\n",
       "      <th>0</th>\n",
       "      <td>55.0</td>\n",
       "      <td>11</td>\n",
       "      <td>Sim</td>\n",
       "      <td>Trabalha</td>\n",
       "      <td>Mulher</td>\n",
       "    </tr>\n",
       "    <tr>\n",
       "      <th>1</th>\n",
       "      <td>69.0</td>\n",
       "      <td>11</td>\n",
       "      <td>Não informado</td>\n",
       "      <td>Não Trabalha</td>\n",
       "      <td>Homem</td>\n",
       "    </tr>\n",
       "    <tr>\n",
       "      <th>2</th>\n",
       "      <td>31.0</td>\n",
       "      <td>11</td>\n",
       "      <td>Não informado</td>\n",
       "      <td>Trabalha</td>\n",
       "      <td>Homem</td>\n",
       "    </tr>\n",
       "    <tr>\n",
       "      <th>3</th>\n",
       "      <td>9.0</td>\n",
       "      <td>11</td>\n",
       "      <td>Não informado</td>\n",
       "      <td>Não informado</td>\n",
       "      <td>Homem</td>\n",
       "    </tr>\n",
       "    <tr>\n",
       "      <th>4</th>\n",
       "      <td>6.0</td>\n",
       "      <td>11</td>\n",
       "      <td>Não informado</td>\n",
       "      <td>Não informado</td>\n",
       "      <td>Mulher</td>\n",
       "    </tr>\n",
       "    <tr>\n",
       "      <th>...</th>\n",
       "      <td>...</td>\n",
       "      <td>...</td>\n",
       "      <td>...</td>\n",
       "      <td>...</td>\n",
       "      <td>...</td>\n",
       "    </tr>\n",
       "    <tr>\n",
       "      <th>293721</th>\n",
       "      <td>49.0</td>\n",
       "      <td>53</td>\n",
       "      <td>Não informado</td>\n",
       "      <td>Trabalha</td>\n",
       "      <td>Mulher</td>\n",
       "    </tr>\n",
       "    <tr>\n",
       "      <th>293722</th>\n",
       "      <td>84.0</td>\n",
       "      <td>53</td>\n",
       "      <td>Não informado</td>\n",
       "      <td>Não Trabalha</td>\n",
       "      <td>Homem</td>\n",
       "    </tr>\n",
       "    <tr>\n",
       "      <th>293723</th>\n",
       "      <td>21.0</td>\n",
       "      <td>53</td>\n",
       "      <td>Não informado</td>\n",
       "      <td>Trabalha</td>\n",
       "      <td>Homem</td>\n",
       "    </tr>\n",
       "    <tr>\n",
       "      <th>293724</th>\n",
       "      <td>13.0</td>\n",
       "      <td>53</td>\n",
       "      <td>Não informado</td>\n",
       "      <td>Não informado</td>\n",
       "      <td>Mulher</td>\n",
       "    </tr>\n",
       "    <tr>\n",
       "      <th>293725</th>\n",
       "      <td>Não informado</td>\n",
       "      <td>53</td>\n",
       "      <td>Não informado</td>\n",
       "      <td>Não informado</td>\n",
       "      <td>Não informado</td>\n",
       "    </tr>\n",
       "  </tbody>\n",
       "</table>\n",
       "<p>293726 rows × 5 columns</p>\n",
       "</div>"
      ],
      "text/plain": [
       "                idade  Estado Tem depressão?      Trabalha?           Sexo\n",
       "0                55.0      11            Sim       Trabalha         Mulher\n",
       "1                69.0      11  Não informado   Não Trabalha          Homem\n",
       "2                31.0      11  Não informado       Trabalha          Homem\n",
       "3                 9.0      11  Não informado  Não informado          Homem\n",
       "4                 6.0      11  Não informado  Não informado         Mulher\n",
       "...               ...     ...            ...            ...            ...\n",
       "293721           49.0      53  Não informado       Trabalha         Mulher\n",
       "293722           84.0      53  Não informado   Não Trabalha          Homem\n",
       "293723           21.0      53  Não informado       Trabalha          Homem\n",
       "293724           13.0      53  Não informado  Não informado         Mulher\n",
       "293725  Não informado      53  Não informado  Não informado  Não informado\n",
       "\n",
       "[293726 rows x 5 columns]"
      ]
     },
     "execution_count": 13,
     "metadata": {},
     "output_type": "execute_result"
    }
   ],
   "source": [
    "df[['idade', 'Estado', 'Tem depressão?', 'Trabalha?', 'Sexo']] = df[['idade', 'Estado', 'Tem depressão?', 'Trabalha?', 'Sexo']].applymap(lambda x: 'Não informado' if pd.isna(x) else x)\n",
    "df[['idade', 'Estado', 'Tem depressão?', 'Trabalha?', 'Sexo']]"
   ]
  },
  {
   "cell_type": "code",
   "execution_count": 14,
   "metadata": {
    "colab": {
     "base_uri": "https://localhost:8080/"
    },
    "executionInfo": {
     "elapsed": 61,
     "status": "ok",
     "timestamp": 1708345419854,
     "user": {
      "displayName": "Pedro Rodrigues",
      "userId": "13325411992293832064"
     },
     "user_tz": 180
    },
    "id": "4CMBxTJoRh4a",
    "outputId": "57b05a90-7f9e-467d-c524-363c4a0915d0"
   },
   "outputs": [
    {
     "name": "stdout",
     "output_type": "stream",
     "text": [
      "<class 'pandas.core.frame.DataFrame'>\n",
      "RangeIndex: 293726 entries, 0 to 293725\n",
      "Data columns (total 5 columns):\n",
      " #   Column          Non-Null Count   Dtype \n",
      "---  ------          --------------   ----- \n",
      " 0   idade           293726 non-null  object\n",
      " 1   Estado          293726 non-null  int64 \n",
      " 2   Tem depressão?  293726 non-null  object\n",
      " 3   Trabalha?       293726 non-null  object\n",
      " 4   Sexo            293726 non-null  object\n",
      "dtypes: int64(1), object(4)\n",
      "memory usage: 11.2+ MB\n"
     ]
    }
   ],
   "source": [
    "df[['idade', 'Estado', 'Tem depressão?', 'Trabalha?', 'Sexo']].info()\n"
   ]
  },
  {
   "cell_type": "code",
   "execution_count": 15,
   "metadata": {},
   "outputs": [
    {
     "data": {
      "text/html": [
       "<div>\n",
       "<style scoped>\n",
       "    .dataframe tbody tr th:only-of-type {\n",
       "        vertical-align: middle;\n",
       "    }\n",
       "\n",
       "    .dataframe tbody tr th {\n",
       "        vertical-align: top;\n",
       "    }\n",
       "\n",
       "    .dataframe thead th {\n",
       "        text-align: right;\n",
       "    }\n",
       "</style>\n",
       "<table border=\"1\" class=\"dataframe\">\n",
       "  <thead>\n",
       "    <tr style=\"text-align: right;\">\n",
       "      <th></th>\n",
       "      <th>Estado</th>\n",
       "      <th>idade</th>\n",
       "      <th>Tem depressão?</th>\n",
       "      <th>Trabalha?</th>\n",
       "      <th>Sexo</th>\n",
       "    </tr>\n",
       "  </thead>\n",
       "  <tbody>\n",
       "    <tr>\n",
       "      <th>0</th>\n",
       "      <td>11</td>\n",
       "      <td>55.0</td>\n",
       "      <td>Sim</td>\n",
       "      <td>Trabalha</td>\n",
       "      <td>Mulher</td>\n",
       "    </tr>\n",
       "    <tr>\n",
       "      <th>1</th>\n",
       "      <td>11</td>\n",
       "      <td>69.0</td>\n",
       "      <td>Não informado</td>\n",
       "      <td>Não Trabalha</td>\n",
       "      <td>Homem</td>\n",
       "    </tr>\n",
       "    <tr>\n",
       "      <th>2</th>\n",
       "      <td>11</td>\n",
       "      <td>31.0</td>\n",
       "      <td>Não informado</td>\n",
       "      <td>Trabalha</td>\n",
       "      <td>Homem</td>\n",
       "    </tr>\n",
       "    <tr>\n",
       "      <th>3</th>\n",
       "      <td>11</td>\n",
       "      <td>9.0</td>\n",
       "      <td>Não informado</td>\n",
       "      <td>Não informado</td>\n",
       "      <td>Homem</td>\n",
       "    </tr>\n",
       "    <tr>\n",
       "      <th>4</th>\n",
       "      <td>11</td>\n",
       "      <td>6.0</td>\n",
       "      <td>Não informado</td>\n",
       "      <td>Não informado</td>\n",
       "      <td>Mulher</td>\n",
       "    </tr>\n",
       "  </tbody>\n",
       "</table>\n",
       "</div>"
      ],
      "text/plain": [
       "   Estado idade Tem depressão?      Trabalha?    Sexo\n",
       "0      11  55.0            Sim       Trabalha  Mulher\n",
       "1      11  69.0  Não informado   Não Trabalha   Homem\n",
       "2      11  31.0  Não informado       Trabalha   Homem\n",
       "3      11   9.0  Não informado  Não informado   Homem\n",
       "4      11   6.0  Não informado  Não informado  Mulher"
      ]
     },
     "execution_count": 15,
     "metadata": {},
     "output_type": "execute_result"
    }
   ],
   "source": [
    "df.head()"
   ]
  },
  {
   "cell_type": "code",
   "execution_count": 16,
   "metadata": {},
   "outputs": [
    {
     "name": "stdout",
     "output_type": "stream",
     "text": [
      "Valores únicos em idade: [55.0 69.0 31.0 9.0 6.0 4.0 33.0 17.0 15.0 19.0 45.0 78.0 28.0 25.0 26.0\n",
      " 7.0 3.0 58.0 1.0 81.0 41.0 54.0 22.0 37.0 38.0 14.0 27.0 52.0 36.0 56.0\n",
      " 'Não informado' 72.0 53.0 50.0 60.0 35.0 30.0 21.0 23.0 42.0 0.0 49.0\n",
      " 18.0 24.0 32.0 66.0 47.0 20.0 29.0 40.0 10.0 8.0 13.0 63.0 77.0 65.0 68.0\n",
      " 61.0 59.0 39.0 12.0 11.0 48.0 73.0 64.0 44.0 57.0 34.0 67.0 16.0 51.0\n",
      " 46.0 62.0 5.0 85.0 74.0 2.0 76.0 75.0 43.0 94.0 80.0 71.0 70.0 84.0 79.0\n",
      " 88.0 92.0 83.0 90.0 102.0 86.0 87.0 89.0 82.0 91.0 97.0 93.0 95.0 99.0\n",
      " 101.0 100.0 98.0 103.0 104.0 107.0 96.0 106.0 105.0 112.0]"
     ]
    },
    {
     "name": "stdout",
     "output_type": "stream",
     "text": [
      "\n",
      "\n",
      "Valores únicos em Tem depressão?: ['Sim' 'Não informado' 'Não']\n",
      "\n",
      "Valores únicos em Estado: [11 12 13 14 15 16 17 21 22 23 24 25 26 27 28 29 31 32 33 35 41 42 43 50\n",
      " 51 52 53]\n",
      "\n",
      "Valores únicos em Trabalha?: ['Trabalha' 'Não Trabalha' 'Não informado']\n",
      "\n",
      "Valores únicos em Sexo: ['Mulher' 'Homem' 'Não informado']\n",
      "\n"
     ]
    }
   ],
   "source": [
    "for column in df[['idade', 'Tem depressão?', 'Estado', 'Trabalha?', 'Sexo']]:\n",
    "    unique_values = df[column].unique()\n",
    "    print(f'Valores únicos em {column}: {unique_values}')\n",
    "    print()"
   ]
  },
  {
   "cell_type": "markdown",
   "metadata": {},
   "source": [
    "> **Renomeando atributos de Estado**"
   ]
  },
  {
   "cell_type": "code",
   "execution_count": 17,
   "metadata": {},
   "outputs": [],
   "source": [
    "mapeamento_estado = {\n",
    "    11: 'Rondônia',\n",
    "    12: 'Acre',\n",
    "    13: 'Amazonas',\n",
    "    14: 'Roraima',\n",
    "    15: 'Pará',\n",
    "    16: 'Amapá',\n",
    "    17: 'Tocantins',\n",
    "    21: 'Maranhão',\n",
    "    22: 'Piauí',\n",
    "    23: 'Ceará',\n",
    "    24: 'Rio Grande do Norte',\n",
    "    25: 'Paraíba',\n",
    "    26: 'Pernambuco',\n",
    "    27: 'Alagoas',\n",
    "    28: 'Sergipe',\n",
    "    29: 'Bahia',\n",
    "    31: 'Minas Gerais',\n",
    "    32: 'Espírito Santo',\n",
    "    33: 'Rio de Janeiro',\n",
    "    35: 'São Paulo',\n",
    "    41: 'Paraná',\n",
    "    42: 'Santa Catarina',\n",
    "    43: 'Rio Grande do Sul',\n",
    "    50: 'Mato Grosso do Sul',\n",
    "    51: 'Mato Grosso',\n",
    "    52: 'Goiás',\n",
    "    53: 'Distrito Federal'\n",
    "}\n",
    "\n",
    "df['Estado'] = df['Estado'].map(mapeamento_estado)"
   ]
  },
  {
   "cell_type": "markdown",
   "metadata": {},
   "source": [
    "> **Adicionando coluna de regiões** "
   ]
  },
  {
   "cell_type": "code",
   "execution_count": 18,
   "metadata": {
    "scrolled": true
   },
   "outputs": [],
   "source": [
    "\n",
    "regioes_por_estado = {\n",
    "    'Acre': 'Norte',\n",
    "    'Alagoas': 'Nordeste',\n",
    "    'Amapá': 'Norte',\n",
    "    'Amazonas': 'Norte',\n",
    "    'Bahia': 'Nordeste',\n",
    "    'Ceará': 'Nordeste',\n",
    "    'Distrito Federal': 'Centro-Oeste',\n",
    "    'Espírito Santo': 'Sudeste',\n",
    "    'Goiás': 'Centro-Oeste',\n",
    "    'Maranhão': 'Nordeste',\n",
    "    'Mato Grosso': 'Centro-Oeste',\n",
    "    'Mato Grosso do Sul': 'Centro-Oeste',\n",
    "    'Minas Gerais': 'Sudeste',\n",
    "    'Pará': 'Norte',\n",
    "    'Paraíba': 'Nordeste',\n",
    "    'Paraná': 'Sul',\n",
    "    'Pernambuco': 'Nordeste',\n",
    "    'Piauí': 'Nordeste',\n",
    "    'Rio de Janeiro': 'Sudeste',\n",
    "    'Rio Grande do Norte': 'Nordeste',\n",
    "    'Rio Grande do Sul': 'Sul',\n",
    "    'Rondônia': 'Norte',\n",
    "    'Roraima': 'Norte',\n",
    "    'Santa Catarina': 'Sul',\n",
    "    'São Paulo': 'Sudeste',\n",
    "    'Sergipe': 'Nordeste',\n",
    "    'Tocantins': 'Norte'\n",
    "}\n",
    "\n",
    "df['Região'] = df['Estado'].map(regioes_por_estado)\n",
    "\n"
   ]
  },
  {
   "cell_type": "code",
   "execution_count": 19,
   "metadata": {},
   "outputs": [
    {
     "data": {
      "text/html": [
       "<div>\n",
       "<style scoped>\n",
       "    .dataframe tbody tr th:only-of-type {\n",
       "        vertical-align: middle;\n",
       "    }\n",
       "\n",
       "    .dataframe tbody tr th {\n",
       "        vertical-align: top;\n",
       "    }\n",
       "\n",
       "    .dataframe thead th {\n",
       "        text-align: right;\n",
       "    }\n",
       "</style>\n",
       "<table border=\"1\" class=\"dataframe\">\n",
       "  <thead>\n",
       "    <tr style=\"text-align: right;\">\n",
       "      <th></th>\n",
       "      <th>Estado</th>\n",
       "      <th>idade</th>\n",
       "      <th>Tem depressão?</th>\n",
       "      <th>Trabalha?</th>\n",
       "      <th>Sexo</th>\n",
       "      <th>Região</th>\n",
       "    </tr>\n",
       "  </thead>\n",
       "  <tbody>\n",
       "    <tr>\n",
       "      <th>0</th>\n",
       "      <td>Rondônia</td>\n",
       "      <td>55.0</td>\n",
       "      <td>Sim</td>\n",
       "      <td>Trabalha</td>\n",
       "      <td>Mulher</td>\n",
       "      <td>Norte</td>\n",
       "    </tr>\n",
       "    <tr>\n",
       "      <th>1</th>\n",
       "      <td>Rondônia</td>\n",
       "      <td>69.0</td>\n",
       "      <td>Não informado</td>\n",
       "      <td>Não Trabalha</td>\n",
       "      <td>Homem</td>\n",
       "      <td>Norte</td>\n",
       "    </tr>\n",
       "    <tr>\n",
       "      <th>2</th>\n",
       "      <td>Rondônia</td>\n",
       "      <td>31.0</td>\n",
       "      <td>Não informado</td>\n",
       "      <td>Trabalha</td>\n",
       "      <td>Homem</td>\n",
       "      <td>Norte</td>\n",
       "    </tr>\n",
       "    <tr>\n",
       "      <th>3</th>\n",
       "      <td>Rondônia</td>\n",
       "      <td>9.0</td>\n",
       "      <td>Não informado</td>\n",
       "      <td>Não informado</td>\n",
       "      <td>Homem</td>\n",
       "      <td>Norte</td>\n",
       "    </tr>\n",
       "    <tr>\n",
       "      <th>4</th>\n",
       "      <td>Rondônia</td>\n",
       "      <td>6.0</td>\n",
       "      <td>Não informado</td>\n",
       "      <td>Não informado</td>\n",
       "      <td>Mulher</td>\n",
       "      <td>Norte</td>\n",
       "    </tr>\n",
       "  </tbody>\n",
       "</table>\n",
       "</div>"
      ],
      "text/plain": [
       "     Estado idade Tem depressão?      Trabalha?    Sexo Região\n",
       "0  Rondônia  55.0            Sim       Trabalha  Mulher  Norte\n",
       "1  Rondônia  69.0  Não informado   Não Trabalha   Homem  Norte\n",
       "2  Rondônia  31.0  Não informado       Trabalha   Homem  Norte\n",
       "3  Rondônia   9.0  Não informado  Não informado   Homem  Norte\n",
       "4  Rondônia   6.0  Não informado  Não informado  Mulher  Norte"
      ]
     },
     "execution_count": 19,
     "metadata": {},
     "output_type": "execute_result"
    }
   ],
   "source": [
    "df.head()"
   ]
  },
  {
   "cell_type": "code",
   "execution_count": 20,
   "metadata": {},
   "outputs": [],
   "source": [
    "\n",
    "df = df[['idade', 'Estado', 'Tem depressão?', 'Trabalha?', 'Região', 'Sexo']]\n",
    "df.to_csv(\"base_filtrada.csv\")"
   ]
  }
 ],
 "metadata": {
  "colab": {
   "authorship_tag": "ABX9TyOLhBlzG6AxL4Jm8fn4ILD+",
   "provenance": []
  },
  "kernelspec": {
   "display_name": "Python 3 (ipykernel)",
   "language": "python",
   "name": "python3"
  },
  "language_info": {
   "codemirror_mode": {
    "name": "ipython",
    "version": 3
   },
   "file_extension": ".py",
   "mimetype": "text/x-python",
   "name": "python",
   "nbconvert_exporter": "python",
   "pygments_lexer": "ipython3",
   "version": "3.11.9"
  }
 },
 "nbformat": 4,
 "nbformat_minor": 1
}

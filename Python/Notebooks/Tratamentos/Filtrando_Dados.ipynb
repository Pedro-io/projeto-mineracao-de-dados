{
 "cells": [
  {
   "cell_type": "markdown",
   "metadata": {
    "id": "AQcAmfutPNBc"
   },
   "source": [
    "**Notebook de Preparação de Dados para Projeto de Identificação de Depressão**\n",
    "\n",
    "**Introdução:**\n",
    "Este notebook marca o início do nosso projeto prático, visando uma compreensão mais aprofundada do nosso domínio de problema e a preparação dos dados para a construção de modelos de machine learning. Utilizaremos o método CAPTO para guiar nossa seleção de atributos mais relevantes para a identificação de indivíduos que possam estar sofrendo de depressão. Os dados que utilizaremos são provenientes da Pesquisa Nacional de Saúde (PNS) de 2019.\n",
    "\n",
    "**Objetivos:**\n",
    "Neste notebook, não apenas filtraremos os dados, mas também selecionaremos os atributos mais significativos para o projeto, de acordo com o modelo conceitual desenvolvido com base no método CAPTO. Os dados serão refinados para atender às necessidades específicas do nosso projeto.\n",
    "\n",
    "**Procedimentos:**\n",
    "1. **Coleta de Dados:**\n",
    "   - Iniciaremos a coleta dos dados da PNS 2019 para utilização em nosso projeto.\n",
    "\n",
    "2. **Seleção de Atributos:**\n",
    "   - Utilizando o método CAPTO, identificaremos os atributos mais relevantes para a identificação de indivíduos com depressão."
   ]
  },
  {
   "cell_type": "markdown",
   "metadata": {
    "id": "5uOIyHWZOGjl"
   },
   "source": [
    "## Bibliotecas Utilizadas\n",
    "- Pandas Profiling: Faz uma análise exploratória automática dos dados, gerando insights sobre problemas nos dados."
   ]
  },
  {
   "cell_type": "code",
   "execution_count": 1,
   "metadata": {
    "executionInfo": {
     "elapsed": 1209,
     "status": "ok",
     "timestamp": 1708345418366,
     "user": {
      "displayName": "Pedro Rodrigues",
      "userId": "13325411992293832064"
     },
     "user_tz": 180
    },
    "id": "rc9sKquMGPZL"
   },
   "outputs": [],
   "source": [
    "import pandas as pd"
   ]
  },
  {
   "cell_type": "markdown",
   "metadata": {},
   "source": [
    "## Análise Inicial dos dados "
   ]
  },
  {
   "cell_type": "code",
   "execution_count": 2,
   "metadata": {
    "colab": {
     "base_uri": "https://localhost:8080/",
     "height": 256
    },
    "executionInfo": {
     "elapsed": 91,
     "status": "ok",
     "timestamp": 1708345419846,
     "user": {
      "displayName": "Pedro Rodrigues",
      "userId": "13325411992293832064"
     },
     "user_tz": 180
    },
    "id": "1XoLXB4LGnsV",
    "outputId": "3be35fca-0996-4487-91d9-e6d1861f34ce",
    "scrolled": true
   },
   "outputs": [],
   "source": [
    "data = r\"C:\\Users\\maype\\OneDrive\\Área de Trabalho\\pns_2019\\pns2019\\pns2019.csv\"\n",
    "df_original = pd.read_csv(data)"
   ]
  },
  {
   "cell_type": "code",
   "execution_count": 3,
   "metadata": {
    "colab": {
     "base_uri": "https://localhost:8080/"
    },
    "executionInfo": {
     "elapsed": 85,
     "status": "ok",
     "timestamp": 1708345419849,
     "user": {
      "displayName": "Pedro Rodrigues",
      "userId": "13325411992293832064"
     },
     "user_tz": 180
    },
    "id": "GeSxuiFIqpkC",
    "outputId": "a50ea3ac-773c-4850-dd9c-db9c26b890f8"
   },
   "outputs": [
    {
     "name": "stdout",
     "output_type": "stream",
     "text": [
      "Primeiras linhas do DataFrame:\n",
      "   V0001    V0024    UPA_PNS  V0006_PNS  V0015  V0020  V0022  V0026  V0031  \\\n",
      "0     11  1110011  110000016          1      1   2019    6.0      1      1   \n",
      "1     11  1110011  110000016          1      1   2019    6.0      1      1   \n",
      "2     11  1110011  110000016          1      1   2019    6.0      1      1   \n",
      "3     11  1110011  110000016          1      1   2019    6.0      1      1   \n",
      "4     11  1110011  110000016          1      1   2019    6.0      1      1   \n",
      "\n",
      "   V0025A  ...  VDE002  VDE014  VDF002  VDF003  VDF004  VDL001  VDM001  \\\n",
      "0     1.0  ...     1.0     6.0  2098.0   350.0     2.0     NaN     NaN   \n",
      "1     0.0  ...     NaN     NaN  2098.0   350.0     2.0     NaN     NaN   \n",
      "2     0.0  ...     1.0     4.0  2098.0   350.0     2.0     NaN     NaN   \n",
      "3     9.0  ...     NaN     NaN  2098.0   350.0     2.0     NaN     NaN   \n",
      "4     9.0  ...     NaN     NaN  2098.0   350.0     2.0     NaN     NaN   \n",
      "\n",
      "   VDP001  VDR001    VDDATA  \n",
      "0     NaN     NaN  20210825  \n",
      "1     NaN     NaN  20210825  \n",
      "2     NaN     NaN  20210825  \n",
      "3     NaN     NaN  20210825  \n",
      "4     NaN     NaN  20210825  \n",
      "\n",
      "[5 rows x 1087 columns]\n"
     ]
    }
   ],
   "source": [
    "# 1. Visualização das primeiras linhas do DataFrame\n",
    "print(\"Primeiras linhas do DataFrame:\")\n",
    "print(df_original.head())"
   ]
  },
  {
   "cell_type": "code",
   "execution_count": 4,
   "metadata": {},
   "outputs": [
    {
     "name": "stdout",
     "output_type": "stream",
     "text": [
      "Temos 293726 linhas e 1087 colunas.\n"
     ]
    }
   ],
   "source": [
    "# 2. Número de linhas e colunas\n",
    "print(\"Temos\", df_original.shape[0], \"linhas e\", df_original.shape[1], \"colunas.\")"
   ]
  },
  {
   "cell_type": "code",
   "execution_count": 5,
   "metadata": {},
   "outputs": [
    {
     "name": "stdout",
     "output_type": "stream",
     "text": [
      "\n",
      "Informações gerais sobre o DataFrame:\n",
      "<class 'pandas.core.frame.DataFrame'>\n",
      "RangeIndex: 293726 entries, 0 to 293725\n",
      "Columns: 1087 entries, V0001 to VDDATA\n",
      "dtypes: float64(1078), int64(9)\n",
      "memory usage: 2.4 GB\n",
      "None\n"
     ]
    }
   ],
   "source": [
    "# 3. Informações gerais sobre o DataFrame\n",
    "print(\"\\nInformações gerais sobre o DataFrame:\")\n",
    "print(df_original.info())"
   ]
  },
  {
   "cell_type": "code",
   "execution_count": 6,
   "metadata": {},
   "outputs": [
    {
     "name": "stdout",
     "output_type": "stream",
     "text": [
      "\n",
      "Contagem de valores únicos em cada coluna:\n",
      "V0001          27\n",
      "V0024         574\n",
      "UPA_PNS      8031\n",
      "V0006_PNS      18\n",
      "V0015          12\n",
      "             ... \n",
      "VDL001         31\n",
      "VDM001          4\n",
      "VDP001          3\n",
      "VDR001          9\n",
      "VDDATA          1\n",
      "Length: 1087, dtype: int64\n"
     ]
    }
   ],
   "source": [
    "# 4. Contagem de valores únicos em cada coluna\n",
    "print(\"\\nContagem de valores únicos em cada coluna:\")\n",
    "print(df_original.nunique())"
   ]
  },
  {
   "cell_type": "code",
   "execution_count": 7,
   "metadata": {},
   "outputs": [
    {
     "name": "stdout",
     "output_type": "stream",
     "text": [
      "\n",
      "Contagem de valores nulos em cada coluna:\n",
      "V0001             0\n",
      "V0024             0\n",
      "UPA_PNS           0\n",
      "V0006_PNS         0\n",
      "V0015             0\n",
      "              ...  \n",
      "VDL001       287094\n",
      "VDM001       249264\n",
      "VDP001       285577\n",
      "VDR001       276350\n",
      "VDDATA            0\n",
      "Length: 1087, dtype: int64\n"
     ]
    }
   ],
   "source": [
    "#5. Contagem de valores nulos em cada coluna\n",
    "print(\"\\nContagem de valores nulos em cada coluna:\")\n",
    "print(df_original.isnull().sum())"
   ]
  },
  {
   "cell_type": "markdown",
   "metadata": {},
   "source": [
    "## Filtrando Colunas que Seram Utilizadas "
   ]
  },
  {
   "cell_type": "code",
   "execution_count": 8,
   "metadata": {},
   "outputs": [],
   "source": [
    "df = df_original[[\n",
    "  # Dimensão: Características do Individuo \n",
    "  \n",
    "  'C006', # Sexo\n",
    "  'C00702', # Mês de nascimento\n",
    "  'C00703',# Ano de nascimento   \n",
    "  'C008', # Idade do morador na data de referência\n",
    "\n",
    "  # Dimensão: Fatores Sociais e Ambientais \n",
    "     \n",
    "  'M01401', # Com quantos familiares ou parentes pode contar em momentos bons ou ruins                            \n",
    "  'M01501', # Com quantos amigos próximos ___ pode contar em momentos bons ou ruins (Sem considerar os familiares ou parentes\n",
    "  'E01602', #Qual era o rendimento bruto mensal ou retirada que ___ fazia normalmente nesse trabalho?(valor em dinheiro)\n",
    "  'E01601', #...recebia/fazia normalmente nesse trabalho rendimento/retirada em dinheiro?\n",
    "  'E01603', #...recebia/fazia normalmente nesse trabalho rendimento/retirada em produtos ou mercadorias?\n",
    "  'E01604', #Qual era o rendimento bruto mensal ou retirada que ___ fazia normalmente nesse trabalho?(valor estimado em produtos ou mercadorias)\n",
    "  'E01605', #...recebia/fazia normalmente nesse trabalho rendimento/retirada somente em benefícios ?\n",
    "  'E01801', #...recebia/fazia normalmente nesse(s) outro(s) trabalho(s) rendimento/retirada em dinheiro?\n",
    "  'E01802', #Qual era o rendimento bruto mensal ou retirada que ___ fazia normalmente nesse(s) outro(s) trabalho(s)?(valor em dinheiro)\n",
    "  'E01803', #...recebia/fazia normalmente nesse(s) outro(s) trabalho(s) rendimento/retirada em produtos ou mercadorias?\n",
    "  'E01804', #Qual era o rendimento bruto mensal ou retirada que ___ fazia normalmente nesse(s) outro(s) trabalho(s)?(valor estimado em produtos ou mercadorias)\n",
    "  'E01805', #...recebia/fazia normalmente nesse(s) outro(s) trabalho(s) rendimento/retirada somente em benefícios ?\n",
    "  'F001011', #Em (mês da pesquisa) ___ recebia normalmente rendimento de aposentadoria ou pensão de instituto de previdência federal (INSS), estadual, municipal, ou do governo federal, estadual, municipal?\n",
    "  'F001021', #Valor habitualmente recebido\n",
    "  'F007011', #Em (mês da pesquisa), ___ recebia normalmente rendimento de pensão alimentícia, doação ou mesada em dinheiro de pessoa que não morava no domicílio?\n",
    "  'F007021', #Valor habitualmente recebido\n",
    "  'F008011', #Em (mês da pesquisa), ___ recebia normalmente rendimento de aluguel ou arrendamento?\n",
    "  'F008021', #Valor habitualmente recebido\n",
    "  'VDF001',  #Em (mês da pesquisa), _______ recebia normalmente algum juro de caderneta de poupança e de outras aplicações financeiras, dividendos, programas sociais, seguro-desemprego, seguro defeso ou outros rendimentos? \n",
    "  'VDF00102', #Valor recebido em reais (VDF001)\n",
    "  'E01201', #Qual era a ocupação (cargo ou função) que ___ tinha nesse trabalho\n",
    "  'E01401', #Nesse trabalho, ___ era\n",
    "  'E014011', #Trabalhador não remunerado em ajuda a membro do domicílio ou parente \n",
    "  'E002', #Na semana de ___a___ (semana de referência), ___ trabalhou ou estagiou, durante pelo menos uma hora, em alguma atividade remunerada em produtos, mercadorias, moradia, alimentação, treinamento ou aprendizado etc\n",
    "  'E001', #Na semana de___ a___ (semana de referência), ___ trabalhou ou estagiou, durante pelo menos uma hora, em alguma atividade remunerada em dinheiro\n",
    "  'E019', #Quantas horas ___ trabalhava normalmente, por semana, nesses outros trabalhos? \n",
    "  'E017', # Quantas horas ___ trabalhava normalmente, por semana, nesse trabalho?\n",
    "  'M005011', #Quantas horas trabalha(va) por dia, habitualmente, no período de 8 horas da noite e 5 horas da manhã\n",
    "  'M00601', #Com que frequência, habitualmente, o(a) Sr(a) trabalha(va) no horário entre 8 horas da noite e 5 horas da manhã em algum dos seus trabalhos\n",
    "  'D00901', # Qual foi o curso mais elevado que ___frequentou \n",
    "  'Q092',#***TEM DEPRESSÃO**Algum médico ou profissional de saúde mental (como psiquiatra ou psicólogo) já lhe deu o diagnóstico de depressão?\n",
    "  'Q09201',#Algum médico já lhe receitou algum medicamento para depressão?\n",
    "  'Q09202',#Nas duas últimas semanas o(a) senhor(a) usou algum medicamento para depressão?\n",
    "  'Q09301',#Que idade o(a) Sr(a) tinha no primeiro diagnóstico de depressão? \n",
    "  'Q094',#O(A) Sr(a) vai ao médico/serviço de saúde regularmente por causa da depressão ou só quando tem algum problema?\n",
    "  'Q09502',#Qual o principal motivo do(a) Sr(a) não visitar o médico/serviço de saúde regularmente por causa da depressão? \n",
    "  'Q09605',#Por causa da depressão Faz psicoterapia \n",
    "  'Q09606',#Por causa da depressão Toma medicamentos\n",
    "  'Q09607',#Por causa da depressão Faz uso de acupuntura, plantas medicinais e fitoterapia, homeopatia, meditação, yoga, tai chi chuan, liang gong ou alguma outra prática integrativa e complementar \n",
    "  'Q098',#Algum dos medicamentos para depressão foi obtido em serviço público de saúde? \n",
    "  'Q100',#O(A) Sr(a) pagou algum valor pelos medicamentos? \n",
    "  'Q10101',#Quando foi a última vez que o(a) Sr(a) recebeu atendimento médico por causa da depressão? \n",
    "  'Q10202',#Na última vez que recebeu assistência médica para depressão, onde o(a) Sr(a) foi atendido? \n",
    "  'Q104',#O(A) Sr(a) pagou algum valor por esse atendimento?\n",
    "  'Q105',#Esse atendimento foi feito pelo SUS? \n",
    "  'Q106',#Em algum dos atendimentos para depressão, houve encaminhamento para algum acompanhamento com profissional de saúde mental, como psiquiatra ou psicólogo? \n",
    "  'Q10701',#O(A) Sr(a) conseguiu ir às consultas com profissional especialista de saúde mental? \n",
    "  'Q109',#Em geral, em que grau a depressão limita as suas atividades habituais (tais como trabalhar, realizar afazeres domésticos, etc.)? \n",
    "  'A001',#Tipo do domicílio\n",
    "  'A002010',#Qual é o material que predomina na construção das paredes externas deste domicílio?\n",
    "  'A003010',#Material predominante na cobertura (telhado) do domicílio\n",
    "  'A004010',#Qual é o material que predomina no piso deste domicílio\n",
    "  'A01001',# Quantos cômodos têm este domicílio\n",
    "  'A011',#Quantos cômodos estão servindo permanentemente de dormitório para os moradores deste domicílio\n",
    "  'A005010',#Qual é a principal forma de abastecimento de água deste domicílio\n",
    "  'A005012',#Este domicílio está ligado à rede geral de distribuição de água? \n",
    "  'A00601',# A água utilizada neste domicílio chega\n",
    "  'A009010',# A água utilizada para beber neste domicílio é\n",
    "  'A01401',#Quantos banheiros (com chuveiro ou banheira e vaso sanitário ou privada) de uso exclusivo dos moradores existem neste domicílio, inclusive os localizados no terreno ou propriedade\n",
    "  'A01402',#Quantos banheiros (com chuveiro ou banheira e vaso sanitário ou privada) de uso comum a mais de um domicilio, existem neste terreno ou propriedade\n",
    "  'A01403',#Utiliza sanitário ou buraco para dejeções, inclusive os localizados no terreno ou na propriedade (cercado por paredes de qualquer material\n",
    "  'A01501',#Para onde vai o esgoto do banheiro? Ou Para onde vai o esgoto do sanitário ou do buraco para dejeções?\n",
    "  'A016010',#Qual o (principal) destino dado ao lixo\n",
    "  'J007', #Algum médico já deu o diagnóstico de alguma doença crônica, física ou mental, ou doença de longa duração (de mais de 6 meses de duração) \n",
    "  'Q11006', # Algum médico ou profissional de saúde (como psiquiatra ou psicólogo) já lhe deu o diagnóstico de outra doença mental, como transtorno de ansiedade, síndrome do pânico, esquizofrenia, transtorno bipolar, psicose ou TOC (Transtorno Obsessivo Compulsivo) etc? \n",
    "  'Q11007', # Diagnóstico de Esquizofrenia \n",
    "  'Q11008', # Diagnóstico de Transtorno bipolar \n",
    "  'Q11009', # Diagnóstico de TOC (Transtorno obsessivo compulsivo) \n",
    "  'Q11010', # Outro diagnóstico\n",
    "  'N00101', # Considerando saúde como um estado de bem-estar físico e mental, e não somente a ausência de doenças, como você avalia o seu estado de saúde? \n",
    "  \n",
    "  ####Dimensão: Hábitos de Saúde\n",
    "  \n",
    "  'P034', # Nos últimos três meses, o(a) Sr(a) praticou algum tipo de exercício físico ou esporte? \n",
    "  'P035', # Quantos dias por semana o(a) Sr(a) costuma  (costumava)praticar exercício físico ou esporte?\n",
    "  'P03701', #Em geral, no dia que o(a) Sr(a) pratica exercício ou esporte, quanto tempo em horas dura essa atividade? Horas \n",
    "  'P03702', # Em geral, no dia que o(a) Sr(a) pratica (praticava) exercício ou esporte, quanto tempo em minutos dura essa atividade?Minutos \n",
    "  'P036', # Qual o exercício físico ou esporte que o(a) Sr(a) pratica (praticava) com mais frequência? (Anotar apenas o primeiro citado) \n",
    "  'P027', # Com que frequência o(a) Sr(a) costuma consumir alguma bebida alcoólica?\n",
    "  'P02801', # Quantos dias por semana o(a) Sr(a) costuma consumir alguma bebida alcoólica? \n",
    "  'P029', # Em geral, no dia que o(a) Sr(a) bebe, quantas doses de bebida alcoólica o(a) Sr(a) consome? \n",
    "  'J00402', #  Qual foi o principal motivo de saúde que impediu de realizar suas atividades habituais nas duas últimas semanas \n",
    "  'J01101', # Quando consultou um médico pela última vez\n",
    "  'J014', # Nas duas últimas semanas, procurou algum lugar, serviço ou profissional de saúde para atendimento relacionado à própria saúde\n",
    "  'J01502', # Qual foi o motivo principal pelo qual procurou atendimento relacionado à própria saúde nas duas últimas semanas\n",
    "  'H024', # Orientações sobre alimentação saudável, boa higiene e sono adequado (dormir suficientemente)\n",
    "  'N010', # Nas duas últimas semanas, com que frequência o(a) Sr(a) teve problemas no sono, como dificuldade para adormecer, acordar frequentemente à noite ou dormir mais do que de costume?\n",
    "  \n",
    "  #### Dimensão: Antropometria \n",
    "  'P00102', # O(A) Sr(a) sabe seu peso? \n",
    "  'P00404',#Altura - Final (em cm)(3 inteiros)\n",
    "  'P00103',#Peso - Informado (em kg)(3 inteiros e 1 casa decimal)\n",
    "  'P00104',#Peso - Final (em kg)(3 inteiros e 1 casa decimal)\n",
    "  'W00101', # Peso - 1ª pesagem (em kg)\n",
    "  'W00102', # Peso - 2ª pesagem (em kg)\n",
    "  'W00201', # Altura - 1ª medição (em cm)\n",
    "  'W00202', # Altura - 2ª medição (em cm)\n",
    "  'P00402', # O(A) Sr(a) sabe sua altura? (mesmo que seja valor aproximado) \n",
    "  'P00403', # Altura - Informada (em cm)\n",
    "  'P00601', # Ontem o(a) Sr(a) comeu arroz, macarrão, polenta, cuscuz ou milho verde. \n",
    "  'P00602', # Batata comum, mandioca/aipim/macaxeira, cará ou inhame.\n",
    "  'P00603', # Feijão, ervilha, lentilha ou grão de bico.\n",
    "  'P00604', # Carne de boi, porco, frango, peixe\n",
    "  'P00605', # Ovo (frito, cozido ou mexido ). \n",
    "  'P00607', # Alface, couve, brócolis, agrião ou espinfre.\n",
    "  'P00608', # Abóbora, cenoura, batata doce ou quiabo/caruru. \n",
    "  'P00609', # Tomate, pepino, abobrinha, berinjela, chuchu ou beterraba. \n",
    "  'P00610', # Mamão, manga, melão amarelo ou pequi. \n",
    "  'P00611', # Laranja, banana, maçã, abacaxi. \n",
    "  'P00612', # Leite\n",
    "  'P00613', # Amendoim, castanha de caju ou castanha do Brasil/Pará \n",
    "  'P00614', # ONTEM o(a) Sr(a) tomou ou comeu:Refrigerante\n",
    "  'P00615', # Suco de fruta em caixinha ou lata ou refresco em pó. \n",
    "  'P00616', # Bebida achocolatada ou iogurte com sabor. \n",
    "  'P00617', # Salgadinho de pacote ou biscoito/bolacha salgado.\n",
    "  'P00618', # Biscoito/bolacha doce ou recheado ou bolo de pacote. \n",
    "  'P00619', # Sorvete, chocolate, gelatina, flan ou outra sobremesa industrializada.\n",
    "  'P00620', # Salsicha, linguiça, mortadela ou presunto. \n",
    "  'P00621', # Pão de forma, de cachorro-quente ou de hambúrguer.\n",
    "  'P00622', # Margarina, maionese, ketchup ou outros molhos industrializados. \n",
    "  'P00623', # Macarrão instantâneo, sopa de pacote, lasanha congelada ou outro prato congelado comprado pronto industrilizado.\n",
    "  'P006', # Em quantos dias da semana o(a) Sr(a) costuma comer feijão? \n",
    "  'P00901', # Em quantos dias da semana, o(a) Sr(a) costuma comer pelo menos um tipo de verdura ou legume (sem contar batata, mandioca, cará ou inhame) como alface, tomate, couve, cenoura, chuchu, berinjela, abobrinha? \n",
    "  'P01001', # Em geral, o(a) Sr(a) costuma comer esse tipo de verdura ou legume: \n",
    "  'P01101', # Em quantos dias da semana o(a) Sr(a) costuma comer carne vermelha (boi, porco, cabrito, bode, ovelha etc.)? \n",
    "  'P013', # Em quantos dias da semana o(a) Sr(a) costuma comer frango/galinha? \n",
    "  'P015', #Em quantos dias da semana o(a) Sr(a) costuma comer peixe? \n",
    "  'P02001', # Em quantos dias da semana o(a) Sr(a) costuma tomar suco de caixinha/lata ou refresco em pó ? \n",
    "  'P02101', # Que tipo de suco de caixinha/lata ou refresco em pó o(a) Sr(a) costuma tomar? (Ler as opções de resposta) \n",
    "  'P01601', # Em quantos dias da semana o(a) Sr(a) costuma tomar suco de fruta natural (incluída a polpa de fruta congelada)? \n",
    "  'P018', # Em quantos dias da semana o(a) Sr(a) costuma comer frutas? \n",
    "  'P019', # Em geral, quantas vezes por dia o(a) Sr(a) come frutas? \n",
    "  'P02002', #  Em quantos dias da semana o(a) Sr(a) costuma tomar refrigerante? \n",
    "  'P02102', # Que tipo de refrigerante o(a) Sr(a) costuma tomar? \n",
    "  'P023', # Em quantos dias da semana o(a) Sr(a) costuma tomar leite? (de origem animal: vaca, cabra, búfala etc.) \n",
    "  'P02401', # Que tipo de leite o(a) Sr(a) costuma tomar? \n",
    "  'P02501', # Em quantos dias da semana o(a) Sr(a) costuma comer alimentos doces como biscoito/bolacha recheado, chocolate, gelatina, balas e outros?\n",
    "  'P02602', # Em quantos dias da semana o(a) Sr(a) costuma substituir a refeição do almoço por lanches rápidos como sanduíches, salgados, pizza, cachorro quente, etc? \n",
    "  'P02601', # Considerando a comida preparada na hora e os alimentos industrializados, o(a) Sr(a) acha que o seu consumo de sal é:\n",
    "\n",
    "\n",
    "\n",
    "\n",
    "  \n",
    "  \n",
    "  ]].copy() "
   ]
  },
  {
   "cell_type": "markdown",
   "metadata": {},
   "source": [
    "# Analise dos Dados Filtrados "
   ]
  },
  {
   "cell_type": "code",
   "execution_count": 9,
   "metadata": {},
   "outputs": [
    {
     "name": "stdout",
     "output_type": "stream",
     "text": [
      "Primeiras linhas do DataFrame:\n"
     ]
    },
    {
     "data": {
      "text/html": [
       "<div>\n",
       "<style scoped>\n",
       "    .dataframe tbody tr th:only-of-type {\n",
       "        vertical-align: middle;\n",
       "    }\n",
       "\n",
       "    .dataframe tbody tr th {\n",
       "        vertical-align: top;\n",
       "    }\n",
       "\n",
       "    .dataframe thead th {\n",
       "        text-align: right;\n",
       "    }\n",
       "</style>\n",
       "<table border=\"1\" class=\"dataframe\">\n",
       "  <thead>\n",
       "    <tr style=\"text-align: right;\">\n",
       "      <th></th>\n",
       "      <th>C006</th>\n",
       "      <th>C00702</th>\n",
       "      <th>C00703</th>\n",
       "      <th>C008</th>\n",
       "      <th>M01401</th>\n",
       "      <th>M01501</th>\n",
       "      <th>E01602</th>\n",
       "      <th>E01601</th>\n",
       "      <th>E01603</th>\n",
       "      <th>E01604</th>\n",
       "      <th>...</th>\n",
       "      <th>P01601</th>\n",
       "      <th>P018</th>\n",
       "      <th>P019</th>\n",
       "      <th>P02002</th>\n",
       "      <th>P02102</th>\n",
       "      <th>P023</th>\n",
       "      <th>P02401</th>\n",
       "      <th>P02501</th>\n",
       "      <th>P02602</th>\n",
       "      <th>P02601</th>\n",
       "    </tr>\n",
       "  </thead>\n",
       "  <tbody>\n",
       "    <tr>\n",
       "      <th>0</th>\n",
       "      <td>2.0</td>\n",
       "      <td>11.0</td>\n",
       "      <td>1963.0</td>\n",
       "      <td>55.0</td>\n",
       "      <td>3.0</td>\n",
       "      <td>0.0</td>\n",
       "      <td>100.0</td>\n",
       "      <td>1.0</td>\n",
       "      <td>NaN</td>\n",
       "      <td>NaN</td>\n",
       "      <td>...</td>\n",
       "      <td>0.0</td>\n",
       "      <td>3.0</td>\n",
       "      <td>NaN</td>\n",
       "      <td>1.0</td>\n",
       "      <td>2.0</td>\n",
       "      <td>7.0</td>\n",
       "      <td>2.0</td>\n",
       "      <td>0.0</td>\n",
       "      <td>0.0</td>\n",
       "      <td>3.0</td>\n",
       "    </tr>\n",
       "    <tr>\n",
       "      <th>1</th>\n",
       "      <td>1.0</td>\n",
       "      <td>4.0</td>\n",
       "      <td>1950.0</td>\n",
       "      <td>69.0</td>\n",
       "      <td>NaN</td>\n",
       "      <td>NaN</td>\n",
       "      <td>NaN</td>\n",
       "      <td>NaN</td>\n",
       "      <td>NaN</td>\n",
       "      <td>NaN</td>\n",
       "      <td>...</td>\n",
       "      <td>NaN</td>\n",
       "      <td>NaN</td>\n",
       "      <td>NaN</td>\n",
       "      <td>NaN</td>\n",
       "      <td>NaN</td>\n",
       "      <td>NaN</td>\n",
       "      <td>NaN</td>\n",
       "      <td>NaN</td>\n",
       "      <td>NaN</td>\n",
       "      <td>NaN</td>\n",
       "    </tr>\n",
       "    <tr>\n",
       "      <th>2</th>\n",
       "      <td>1.0</td>\n",
       "      <td>9.0</td>\n",
       "      <td>1987.0</td>\n",
       "      <td>31.0</td>\n",
       "      <td>NaN</td>\n",
       "      <td>NaN</td>\n",
       "      <td>1000.0</td>\n",
       "      <td>1.0</td>\n",
       "      <td>NaN</td>\n",
       "      <td>NaN</td>\n",
       "      <td>...</td>\n",
       "      <td>NaN</td>\n",
       "      <td>NaN</td>\n",
       "      <td>NaN</td>\n",
       "      <td>NaN</td>\n",
       "      <td>NaN</td>\n",
       "      <td>NaN</td>\n",
       "      <td>NaN</td>\n",
       "      <td>NaN</td>\n",
       "      <td>NaN</td>\n",
       "      <td>NaN</td>\n",
       "    </tr>\n",
       "    <tr>\n",
       "      <th>3</th>\n",
       "      <td>1.0</td>\n",
       "      <td>99.0</td>\n",
       "      <td>9999.0</td>\n",
       "      <td>9.0</td>\n",
       "      <td>NaN</td>\n",
       "      <td>NaN</td>\n",
       "      <td>NaN</td>\n",
       "      <td>NaN</td>\n",
       "      <td>NaN</td>\n",
       "      <td>NaN</td>\n",
       "      <td>...</td>\n",
       "      <td>NaN</td>\n",
       "      <td>NaN</td>\n",
       "      <td>NaN</td>\n",
       "      <td>NaN</td>\n",
       "      <td>NaN</td>\n",
       "      <td>NaN</td>\n",
       "      <td>NaN</td>\n",
       "      <td>NaN</td>\n",
       "      <td>NaN</td>\n",
       "      <td>NaN</td>\n",
       "    </tr>\n",
       "    <tr>\n",
       "      <th>4</th>\n",
       "      <td>2.0</td>\n",
       "      <td>99.0</td>\n",
       "      <td>9999.0</td>\n",
       "      <td>6.0</td>\n",
       "      <td>NaN</td>\n",
       "      <td>NaN</td>\n",
       "      <td>NaN</td>\n",
       "      <td>NaN</td>\n",
       "      <td>NaN</td>\n",
       "      <td>NaN</td>\n",
       "      <td>...</td>\n",
       "      <td>NaN</td>\n",
       "      <td>NaN</td>\n",
       "      <td>NaN</td>\n",
       "      <td>NaN</td>\n",
       "      <td>NaN</td>\n",
       "      <td>NaN</td>\n",
       "      <td>NaN</td>\n",
       "      <td>NaN</td>\n",
       "      <td>NaN</td>\n",
       "      <td>NaN</td>\n",
       "    </tr>\n",
       "  </tbody>\n",
       "</table>\n",
       "<p>5 rows × 138 columns</p>\n",
       "</div>"
      ],
      "text/plain": [
       "   C006  C00702  C00703  C008  M01401  M01501  E01602  E01601  E01603  E01604  \\\n",
       "0   2.0    11.0  1963.0  55.0     3.0     0.0   100.0     1.0     NaN     NaN   \n",
       "1   1.0     4.0  1950.0  69.0     NaN     NaN     NaN     NaN     NaN     NaN   \n",
       "2   1.0     9.0  1987.0  31.0     NaN     NaN  1000.0     1.0     NaN     NaN   \n",
       "3   1.0    99.0  9999.0   9.0     NaN     NaN     NaN     NaN     NaN     NaN   \n",
       "4   2.0    99.0  9999.0   6.0     NaN     NaN     NaN     NaN     NaN     NaN   \n",
       "\n",
       "   ...  P01601  P018  P019  P02002  P02102  P023  P02401  P02501  P02602  \\\n",
       "0  ...     0.0   3.0   NaN     1.0     2.0   7.0     2.0     0.0     0.0   \n",
       "1  ...     NaN   NaN   NaN     NaN     NaN   NaN     NaN     NaN     NaN   \n",
       "2  ...     NaN   NaN   NaN     NaN     NaN   NaN     NaN     NaN     NaN   \n",
       "3  ...     NaN   NaN   NaN     NaN     NaN   NaN     NaN     NaN     NaN   \n",
       "4  ...     NaN   NaN   NaN     NaN     NaN   NaN     NaN     NaN     NaN   \n",
       "\n",
       "   P02601  \n",
       "0     3.0  \n",
       "1     NaN  \n",
       "2     NaN  \n",
       "3     NaN  \n",
       "4     NaN  \n",
       "\n",
       "[5 rows x 138 columns]"
      ]
     },
     "execution_count": 9,
     "metadata": {},
     "output_type": "execute_result"
    }
   ],
   "source": [
    "# 1. Visualização das primeiras linhas do DataFrame\n",
    "print(\"Primeiras linhas do DataFrame:\")\n",
    "df.head()\n"
   ]
  },
  {
   "cell_type": "code",
   "execution_count": 10,
   "metadata": {},
   "outputs": [
    {
     "name": "stdout",
     "output_type": "stream",
     "text": [
      "Temos 293726 linhas e 138 colunas.\n"
     ]
    }
   ],
   "source": [
    "# 2. Número de linhas e colunas\n",
    "print(\"Temos\", df.shape[0], \"linhas e\", df.shape[1], \"colunas.\")"
   ]
  },
  {
   "cell_type": "code",
   "execution_count": 11,
   "metadata": {},
   "outputs": [
    {
     "name": "stdout",
     "output_type": "stream",
     "text": [
      "\n",
      "Informações gerais sobre o DataFrame:\n",
      "<class 'pandas.core.frame.DataFrame'>\n",
      "RangeIndex: 293726 entries, 0 to 293725\n",
      "Columns: 138 entries, C006 to P02601\n",
      "dtypes: float64(138)\n",
      "memory usage: 309.3 MB\n",
      "None\n"
     ]
    }
   ],
   "source": [
    "# 3. Informações gerais sobre o DataFrame\n",
    "print(\"\\nInformações gerais sobre o DataFrame:\")\n",
    "print(df.info())"
   ]
  },
  {
   "cell_type": "code",
   "execution_count": 12,
   "metadata": {},
   "outputs": [
    {
     "name": "stdout",
     "output_type": "stream",
     "text": [
      "\n",
      "Contagem de valores únicos em cada coluna:\n"
     ]
    },
    {
     "name": "stdout",
     "output_type": "stream",
     "text": [
      "C006        2\n",
      "C00702     13\n",
      "C00703    109\n",
      "C008      109\n",
      "M01401      4\n",
      "         ... \n",
      "P023        8\n",
      "P02401      3\n",
      "P02501      8\n",
      "P02602      8\n",
      "P02601      5\n",
      "Length: 138, dtype: int64\n"
     ]
    }
   ],
   "source": [
    "# 4. Contagem de valores únicos em cada coluna\n",
    "print(\"\\nContagem de valores únicos em cada coluna:\")\n",
    "print(df.nunique())# 4. Contagem de valores únicos em cada coluna\n"
   ]
  },
  {
   "cell_type": "code",
   "execution_count": 13,
   "metadata": {},
   "outputs": [
    {
     "name": "stdout",
     "output_type": "stream",
     "text": [
      "\n",
      "Contagem de valores nulos em cada coluna:\n",
      "C006       14344\n",
      "C00702     14344\n",
      "C00703     14344\n",
      "C008       14344\n",
      "M01401    202880\n",
      "           ...  \n",
      "P023      202880\n",
      "P02401    230622\n",
      "P02501    202880\n",
      "P02602    202880\n",
      "P02601    202880\n",
      "Length: 138, dtype: int64\n"
     ]
    }
   ],
   "source": [
    "#5. Contagem de valores nulos em cada coluna\n",
    "print(\"\\nContagem de valores nulos em cada coluna:\")\n",
    "print(df.isnull().sum())"
   ]
  },
  {
   "cell_type": "code",
   "execution_count": 14,
   "metadata": {},
   "outputs": [
    {
     "name": "stdout",
     "output_type": "stream",
     "text": [
      "C006      float64\n",
      "C00702    float64\n",
      "C00703    float64\n",
      "C008      float64\n",
      "M01401    float64\n",
      "           ...   \n",
      "P023      float64\n",
      "P02401    float64\n",
      "P02501    float64\n",
      "P02602    float64\n",
      "P02601    float64\n",
      "Length: 138, dtype: object\n"
     ]
    },
    {
     "name": "stdout",
     "output_type": "stream",
     "text": [
      "C006      category\n",
      "C00702    category\n",
      "C00703    category\n",
      "C008       float64\n",
      "M01401     float64\n",
      "            ...   \n",
      "P023       float64\n",
      "P02401    category\n",
      "P02501     float64\n",
      "P02602     float64\n",
      "P02601    category\n",
      "Length: 138, dtype: object\n",
      "C006      category\n",
      "C00702    category\n",
      "C00703    category\n",
      "C008       float64\n",
      "M01401     float64\n",
      "            ...   \n",
      "P023       float64\n",
      "P02401    category\n",
      "P02501     float64\n",
      "P02602     float64\n",
      "P02601    category\n",
      "Length: 138, dtype: object\n"
     ]
    }
   ],
   "source": [
    "# Verificar os tipos de dados atuais\n",
    "print(df.dtypes)\n",
    "\n",
    "# Lista das colunas que devem ser categóricas\n",
    "colunas_categoricas = df.columns.difference(['C008', 'W00101', 'W00102', 'W00201', 'W00202'])\n",
    "\n",
    "# Converter as colunas para categóricas\n",
    "df[colunas_categoricas] = df[colunas_categoricas].astype('category')\n",
    "\n",
    "# Lista das colunas que devem ser numéricas\n",
    "colunas_numericas = [\n",
    "    \n",
    "  'C008', # Idade do morador na data de referência\n",
    "\n",
    "  # Dimensão: Fatores Sociais e Ambientais \n",
    "     \n",
    "  'M01401', # Com quantos familiares ou parentes pode contar em momentos bons ou ruins                            \n",
    "  'M01501', # Com quantos amigos próximos ___ pode contar em momentos bons ou ruins (Sem considerar os familiares ou parentes\n",
    "  'E01602', #Qual era o rendimento bruto mensal ou retirada que ___ fazia normalmente nesse trabalho?(valor em dinheiro)\n",
    "  'E01601', #...recebia/fazia normalmente nesse trabalho rendimento/retirada em dinheiro?\n",
    "  'E01603', #...recebia/fazia normalmente nesse trabalho rendimento/retirada em produtos ou mercadorias?\n",
    "  'E01604', #Qual era o rendimento bruto mensal ou retirada que ___ fazia normalmente nesse trabalho?(valor estimado em produtos ou mercadorias)\n",
    "  'E01605', #...recebia/fazia normalmente nesse trabalho rendimento/retirada somente em benefícios ?\n",
    "  'E01801', #...recebia/fazia normalmente nesse(s) outro(s) trabalho(s) rendimento/retirada em dinheiro?\n",
    "  'E01802', #Qual era o rendimento bruto mensal ou retirada que ___ fazia normalmente nesse(s) outro(s) trabalho(s)?(valor em dinheiro)\n",
    "  'E01803', #...recebia/fazia normalmente nesse(s) outro(s) trabalho(s) rendimento/retirada em produtos ou mercadorias?\n",
    "  'E01804', #Qual era o rendimento bruto mensal ou retirada que ___ fazia normalmente nesse(s) outro(s) trabalho(s)?(valor estimado em produtos ou mercadorias)\n",
    "  'F001021', #Valor habitualmente recebido\n",
    "  'F007021', #Valor habitualmente recebido\n",
    "  'F008021', #Valor habitualmente recebido\n",
    "  'VDF00102', #Valor recebido em reais (VDF001)\n",
    "   'E019', #Quantas horas ___ trabalhava normalmente, por semana, nesses outros trabalhos? \n",
    "   'E001',#Na semana de___ a___ (semana de referência), ___ trabalhou ou estagiou, durante pelo menos uma hora, em alguma atividade remunerada em dinheiro\n",
    "   'E002',#Na semana de ___a___ (semana de referência), ___ trabalhou ou estagiou, durante pelo menos uma hora, em alguma atividade remunerada em produtos, mercadorias, moradia, alimentação, treinamento ou aprendizado etc\n",
    "  'E017', # Quantas horas ___ trabalhava normalmente, por semana, nesse trabalho?\n",
    "  'M005011', #Quantas horas trabalha(va) por dia, habitualmente, no período de 8 horas da noite e 5 horas da manhã\n",
    "  'M00601', #Com que frequência, habitualmente, o(a) Sr(a) trabalha(va) no horário entre 8 horas da noite e 5 horas da manhã em algum dos seus trabalhos\n",
    " \n",
    "  \n",
    "  \n",
    "  'P00102', # O(A) Sr(a) sabe seu peso? \n",
    "  'W00101', # Peso - 1ª pesagem (em kg)\n",
    "  'W00102', # Peso - 2ª pesagem (em kg)\n",
    "  'W00201', # Altura - 1ª medição (em cm)\n",
    "  'W00202', # Altura - 2ª medição (em cm)\n",
    "  'P01601', # Em quantos dias da semana o(a) Sr(a) costuma tomar suco de fruta natural (incluída a polpa de fruta congelada)? \n",
    "  'P018', # Em quantos dias da semana o(a) Sr(a) costuma comer frutas? \n",
    "  'P019', # Em geral, quantas vezes por dia o(a) Sr(a) come frutas? \n",
    "  'P02002', #  Em quantos dias da semana o(a) Sr(a) costuma tomar refrigerante? \n",
    "  'P023', # Em quantos dias da semana o(a) Sr(a) costuma tomar leite? (de origem animal: vaca, cabra, búfala etc.) \n",
    "  'P02501', # Em quantos dias da semana o(a) Sr(a) costuma comer alimentos doces como biscoito/bolacha recheado, chocolate, gelatina, balas e outros?\n",
    "  'P02602', # Em quantos dias da semana o(a) Sr(a) costuma substituir a refeição do almoço por lanches rápidos como sanduíches, salgados, pizza, cachorro quente, etc? \n",
    "\n",
    "\n",
    "\n",
    "\n",
    "  \n",
    "  \n",
    "  ].copy() \n",
    "\n",
    "# Converter as colunas para numéricas\n",
    "df[colunas_numericas] = df[colunas_numericas].astype('float')\n",
    "\n",
    "# Garantir que as colunas de peso, idade e altura permaneçam numéricas\n",
    "df[['C008', 'W00101', 'W00102', 'W00201', 'W00202']] = df[['C008', 'W00101', 'W00102', 'W00201', 'W00202']].astype('float')\n",
    "\n",
    "# Verificar os tipos de dados após a conversão\n",
    "print(df.dtypes)\n",
    "\n",
    "print(df.dtypes)"
   ]
  },
  {
   "cell_type": "code",
   "execution_count": 15,
   "metadata": {},
   "outputs": [],
   "source": [
    "df.to_csv('culunas_filtradas.csv', index=False)"
   ]
  },
  {
   "cell_type": "markdown",
   "metadata": {},
   "source": [
    "# Filtrando Linhas \n"
   ]
  },
  {
   "cell_type": "code",
   "execution_count": 16,
   "metadata": {},
   "outputs": [],
   "source": [
    "# Removendo linhas onde não responderam se possuem depressão ou não \n",
    "df_filtrado = df[df['Q092'].notna()]\n"
   ]
  },
  {
   "cell_type": "code",
   "execution_count": 17,
   "metadata": {},
   "outputs": [
    {
     "name": "stderr",
     "output_type": "stream",
     "text": [
      "C:\\Users\\maype\\AppData\\Local\\Temp\\ipykernel_2600\\3317738392.py:2: UserWarning: Boolean Series key will be reindexed to match DataFrame index.\n",
      "  df_filtrado = df_filtrado[(df['C008'] >= 40) & (df_filtrado['C008'] <= 65)]\n"
     ]
    }
   ],
   "source": [
    "# Filtrando para idades entre 40 e 65 anos\n",
    "df_filtrado = df_filtrado[(df['C008'] >= 40) & (df_filtrado['C008'] <= 65)]\n"
   ]
  },
  {
   "cell_type": "code",
   "execution_count": 19,
   "metadata": {},
   "outputs": [],
   "source": [
    "df_filtrado.to_csv(r\"C:\\Users\\maype\\OneDrive\\Área de Trabalho\\projects\\projeto-aprendizado-de-maquina\\Data\\linhas_e_colunas_filtradas.csv\", index= False)"
   ]
  }
 ],
 "metadata": {
  "colab": {
   "authorship_tag": "ABX9TyOLhBlzG6AxL4Jm8fn4ILD+",
   "provenance": []
  },
  "kernelspec": {
   "display_name": "Python 3 (ipykernel)",
   "language": "python",
   "name": "python3"
  },
  "language_info": {
   "codemirror_mode": {
    "name": "ipython",
    "version": 3
   },
   "file_extension": ".py",
   "mimetype": "text/x-python",
   "name": "python",
   "nbconvert_exporter": "python",
   "pygments_lexer": "ipython3",
   "version": "3.11.9"
  }
 },
 "nbformat": 4,
 "nbformat_minor": 1
}

{
 "cells": [
  {
   "cell_type": "markdown",
   "metadata": {
    "id": "AQcAmfutPNBc"
   },
   "source": [
    "# Analíse inicial dos dados\n",
    " - Vizualização da Base de Dados\n",
    " - Vizualizações Gráficas"
   ]
  },
  {
   "cell_type": "markdown",
   "metadata": {
    "id": "5uOIyHWZOGjl"
   },
   "source": [
    "## Visualizando a base de dados"
   ]
  },
  {
   "cell_type": "code",
   "execution_count": 10,
   "metadata": {
    "executionInfo": {
     "elapsed": 1209,
     "status": "ok",
     "timestamp": 1708345418366,
     "user": {
      "displayName": "Pedro Rodrigues",
      "userId": "13325411992293832064"
     },
     "user_tz": 180
    },
    "id": "rc9sKquMGPZL"
   },
   "outputs": [],
   "source": [
    "import pandas as pd\n",
    "import numpy as np\n",
    "import matplotlib.pyplot as plt\n"
   ]
  },
  {
   "cell_type": "code",
   "execution_count": 11,
   "metadata": {
    "colab": {
     "base_uri": "https://localhost:8080/",
     "height": 256
    },
    "executionInfo": {
     "elapsed": 91,
     "status": "ok",
     "timestamp": 1708345419846,
     "user": {
      "displayName": "Pedro Rodrigues",
      "userId": "13325411992293832064"
     },
     "user_tz": 180
    },
    "id": "1XoLXB4LGnsV",
    "outputId": "3be35fca-0996-4487-91d9-e6d1861f34ce",
    "scrolled": true
   },
   "outputs": [
    {
     "data": {
      "text/html": [
       "<div>\n",
       "<style scoped>\n",
       "    .dataframe tbody tr th:only-of-type {\n",
       "        vertical-align: middle;\n",
       "    }\n",
       "\n",
       "    .dataframe tbody tr th {\n",
       "        vertical-align: top;\n",
       "    }\n",
       "\n",
       "    .dataframe thead th {\n",
       "        text-align: right;\n",
       "    }\n",
       "</style>\n",
       "<table border=\"1\" class=\"dataframe\">\n",
       "  <thead>\n",
       "    <tr style=\"text-align: right;\">\n",
       "      <th></th>\n",
       "      <th>V0001</th>\n",
       "      <th>V0024</th>\n",
       "      <th>UPA_PNS</th>\n",
       "      <th>V0006_PNS</th>\n",
       "      <th>V0015</th>\n",
       "      <th>V0020</th>\n",
       "      <th>V0022</th>\n",
       "      <th>V0026</th>\n",
       "      <th>V0031</th>\n",
       "      <th>V0025A</th>\n",
       "      <th>...</th>\n",
       "      <th>VDE002</th>\n",
       "      <th>VDE014</th>\n",
       "      <th>VDF002</th>\n",
       "      <th>VDF003</th>\n",
       "      <th>VDF004</th>\n",
       "      <th>VDL001</th>\n",
       "      <th>VDM001</th>\n",
       "      <th>VDP001</th>\n",
       "      <th>VDR001</th>\n",
       "      <th>VDDATA</th>\n",
       "    </tr>\n",
       "  </thead>\n",
       "  <tbody>\n",
       "    <tr>\n",
       "      <th>0</th>\n",
       "      <td>11</td>\n",
       "      <td>1110011</td>\n",
       "      <td>110000016</td>\n",
       "      <td>1</td>\n",
       "      <td>1</td>\n",
       "      <td>2019</td>\n",
       "      <td>6.0</td>\n",
       "      <td>1</td>\n",
       "      <td>1</td>\n",
       "      <td>1.0</td>\n",
       "      <td>...</td>\n",
       "      <td>1.0</td>\n",
       "      <td>6.0</td>\n",
       "      <td>2098.0</td>\n",
       "      <td>350.0</td>\n",
       "      <td>2.0</td>\n",
       "      <td>NaN</td>\n",
       "      <td>NaN</td>\n",
       "      <td>NaN</td>\n",
       "      <td>NaN</td>\n",
       "      <td>20210825</td>\n",
       "    </tr>\n",
       "    <tr>\n",
       "      <th>1</th>\n",
       "      <td>11</td>\n",
       "      <td>1110011</td>\n",
       "      <td>110000016</td>\n",
       "      <td>1</td>\n",
       "      <td>1</td>\n",
       "      <td>2019</td>\n",
       "      <td>6.0</td>\n",
       "      <td>1</td>\n",
       "      <td>1</td>\n",
       "      <td>0.0</td>\n",
       "      <td>...</td>\n",
       "      <td>NaN</td>\n",
       "      <td>NaN</td>\n",
       "      <td>2098.0</td>\n",
       "      <td>350.0</td>\n",
       "      <td>2.0</td>\n",
       "      <td>NaN</td>\n",
       "      <td>NaN</td>\n",
       "      <td>NaN</td>\n",
       "      <td>NaN</td>\n",
       "      <td>20210825</td>\n",
       "    </tr>\n",
       "    <tr>\n",
       "      <th>2</th>\n",
       "      <td>11</td>\n",
       "      <td>1110011</td>\n",
       "      <td>110000016</td>\n",
       "      <td>1</td>\n",
       "      <td>1</td>\n",
       "      <td>2019</td>\n",
       "      <td>6.0</td>\n",
       "      <td>1</td>\n",
       "      <td>1</td>\n",
       "      <td>0.0</td>\n",
       "      <td>...</td>\n",
       "      <td>1.0</td>\n",
       "      <td>4.0</td>\n",
       "      <td>2098.0</td>\n",
       "      <td>350.0</td>\n",
       "      <td>2.0</td>\n",
       "      <td>NaN</td>\n",
       "      <td>NaN</td>\n",
       "      <td>NaN</td>\n",
       "      <td>NaN</td>\n",
       "      <td>20210825</td>\n",
       "    </tr>\n",
       "    <tr>\n",
       "      <th>3</th>\n",
       "      <td>11</td>\n",
       "      <td>1110011</td>\n",
       "      <td>110000016</td>\n",
       "      <td>1</td>\n",
       "      <td>1</td>\n",
       "      <td>2019</td>\n",
       "      <td>6.0</td>\n",
       "      <td>1</td>\n",
       "      <td>1</td>\n",
       "      <td>9.0</td>\n",
       "      <td>...</td>\n",
       "      <td>NaN</td>\n",
       "      <td>NaN</td>\n",
       "      <td>2098.0</td>\n",
       "      <td>350.0</td>\n",
       "      <td>2.0</td>\n",
       "      <td>NaN</td>\n",
       "      <td>NaN</td>\n",
       "      <td>NaN</td>\n",
       "      <td>NaN</td>\n",
       "      <td>20210825</td>\n",
       "    </tr>\n",
       "    <tr>\n",
       "      <th>4</th>\n",
       "      <td>11</td>\n",
       "      <td>1110011</td>\n",
       "      <td>110000016</td>\n",
       "      <td>1</td>\n",
       "      <td>1</td>\n",
       "      <td>2019</td>\n",
       "      <td>6.0</td>\n",
       "      <td>1</td>\n",
       "      <td>1</td>\n",
       "      <td>9.0</td>\n",
       "      <td>...</td>\n",
       "      <td>NaN</td>\n",
       "      <td>NaN</td>\n",
       "      <td>2098.0</td>\n",
       "      <td>350.0</td>\n",
       "      <td>2.0</td>\n",
       "      <td>NaN</td>\n",
       "      <td>NaN</td>\n",
       "      <td>NaN</td>\n",
       "      <td>NaN</td>\n",
       "      <td>20210825</td>\n",
       "    </tr>\n",
       "  </tbody>\n",
       "</table>\n",
       "<p>5 rows × 1087 columns</p>\n",
       "</div>"
      ],
      "text/plain": [
       "   V0001    V0024    UPA_PNS  V0006_PNS  V0015  V0020  V0022  V0026  V0031  \\\n",
       "0     11  1110011  110000016          1      1   2019    6.0      1      1   \n",
       "1     11  1110011  110000016          1      1   2019    6.0      1      1   \n",
       "2     11  1110011  110000016          1      1   2019    6.0      1      1   \n",
       "3     11  1110011  110000016          1      1   2019    6.0      1      1   \n",
       "4     11  1110011  110000016          1      1   2019    6.0      1      1   \n",
       "\n",
       "   V0025A  ...  VDE002  VDE014  VDF002  VDF003  VDF004  VDL001  VDM001  \\\n",
       "0     1.0  ...     1.0     6.0  2098.0   350.0     2.0     NaN     NaN   \n",
       "1     0.0  ...     NaN     NaN  2098.0   350.0     2.0     NaN     NaN   \n",
       "2     0.0  ...     1.0     4.0  2098.0   350.0     2.0     NaN     NaN   \n",
       "3     9.0  ...     NaN     NaN  2098.0   350.0     2.0     NaN     NaN   \n",
       "4     9.0  ...     NaN     NaN  2098.0   350.0     2.0     NaN     NaN   \n",
       "\n",
       "   VDP001  VDR001    VDDATA  \n",
       "0     NaN     NaN  20210825  \n",
       "1     NaN     NaN  20210825  \n",
       "2     NaN     NaN  20210825  \n",
       "3     NaN     NaN  20210825  \n",
       "4     NaN     NaN  20210825  \n",
       "\n",
       "[5 rows x 1087 columns]"
      ]
     },
     "execution_count": 11,
     "metadata": {},
     "output_type": "execute_result"
    }
   ],
   "source": [
    "data = r\"C:\\Users\\user\\OneDrive\\Área de Trabalho\\projetos\\projeto-mineracao-de-dados\\Data\\Base Original\\pns2019.csv\"\n",
    "df_original = pd.read_csv(data)\n",
    "df_original.head()"
   ]
  },
  {
   "cell_type": "code",
   "execution_count": 13,
   "metadata": {
    "colab": {
     "base_uri": "https://localhost:8080/"
    },
    "executionInfo": {
     "elapsed": 85,
     "status": "ok",
     "timestamp": 1708345419849,
     "user": {
      "displayName": "Pedro Rodrigues",
      "userId": "13325411992293832064"
     },
     "user_tz": 180
    },
    "id": "GeSxuiFIqpkC",
    "outputId": "a50ea3ac-773c-4850-dd9c-db9c26b890f8"
   },
   "outputs": [
    {
     "name": "stdout",
     "output_type": "stream",
     "text": [
      "<class 'pandas.core.frame.DataFrame'>\n",
      "RangeIndex: 293726 entries, 0 to 293725\n",
      "Columns: 1087 entries, V0001 to VDDATA\n",
      "dtypes: float64(1078), int64(9)\n",
      "memory usage: 2.4 GB\n"
     ]
    }
   ],
   "source": [
    "df_original.info()"
   ]
  },
  {
   "cell_type": "code",
   "execution_count": 14,
   "metadata": {},
   "outputs": [
    {
     "name": "stdout",
     "output_type": "stream",
     "text": [
      "Temos 293726 linhas e 1087 colunas.\n"
     ]
    }
   ],
   "source": [
    "print(\"Temos\", df_original.shape[0], \"linhas e\", df_original.shape[1], \"colunas.\")"
   ]
  },
  {
   "cell_type": "markdown",
   "metadata": {},
   "source": [
    "> **Selecionando colunas a serem utilizadas.**"
   ]
  },
  {
   "cell_type": "code",
   "execution_count": 97,
   "metadata": {},
   "outputs": [],
   "source": [
    "df = df_original[['V0001',\n",
    "                  'C008',\n",
    "                  'Q092',\n",
    "                  'E001',\n",
    "                  'C006']].copy()"
   ]
  },
  {
   "cell_type": "markdown",
   "metadata": {
    "id": "Bk_TryiIORRQ"
   },
   "source": [
    "> **Renomeando colunas para facilitar a análise**"
   ]
  },
  {
   "cell_type": "code",
   "execution_count": 98,
   "metadata": {
    "executionInfo": {
     "elapsed": 79,
     "status": "ok",
     "timestamp": 1708345419851,
     "user": {
      "displayName": "Pedro Rodrigues",
      "userId": "13325411992293832064"
     },
     "user_tz": 180
    },
    "id": "YY6R9PTmr8o2"
   },
   "outputs": [],
   "source": [
    "mapeamento = {\n",
    "    'V0001' : 'Estado',\n",
    "    'C008' : 'idade',\n",
    "    'Q092': 'Tem depressão?',\n",
    "    'E001' : 'Trabalha?',\n",
    "    'C006' : 'Sexo'\n",
    "}\n",
    "\n",
    "df.rename(columns=mapeamento, inplace=True)"
   ]
  },
  {
   "cell_type": "code",
   "execution_count": 99,
   "metadata": {
    "colab": {
     "base_uri": "https://localhost:8080/",
     "height": 424
    },
    "executionInfo": {
     "elapsed": 79,
     "status": "ok",
     "timestamp": 1708345419852,
     "user": {
      "displayName": "Pedro Rodrigues",
      "userId": "13325411992293832064"
     },
     "user_tz": 180
    },
    "id": "YA1odMZjQkHT",
    "outputId": "4f3c2f19-e431-487c-e487-abdc2bd4d3c0"
   },
   "outputs": [
    {
     "data": {
      "text/html": [
       "<div>\n",
       "<style scoped>\n",
       "    .dataframe tbody tr th:only-of-type {\n",
       "        vertical-align: middle;\n",
       "    }\n",
       "\n",
       "    .dataframe tbody tr th {\n",
       "        vertical-align: top;\n",
       "    }\n",
       "\n",
       "    .dataframe thead th {\n",
       "        text-align: right;\n",
       "    }\n",
       "</style>\n",
       "<table border=\"1\" class=\"dataframe\">\n",
       "  <thead>\n",
       "    <tr style=\"text-align: right;\">\n",
       "      <th></th>\n",
       "      <th>idade</th>\n",
       "      <th>Estado</th>\n",
       "      <th>Tem depressão?</th>\n",
       "      <th>Sexo</th>\n",
       "      <th>Trabalha?</th>\n",
       "    </tr>\n",
       "  </thead>\n",
       "  <tbody>\n",
       "    <tr>\n",
       "      <th>0</th>\n",
       "      <td>55.0</td>\n",
       "      <td>11</td>\n",
       "      <td>1.0</td>\n",
       "      <td>2.0</td>\n",
       "      <td>1.0</td>\n",
       "    </tr>\n",
       "    <tr>\n",
       "      <th>1</th>\n",
       "      <td>69.0</td>\n",
       "      <td>11</td>\n",
       "      <td>NaN</td>\n",
       "      <td>1.0</td>\n",
       "      <td>2.0</td>\n",
       "    </tr>\n",
       "    <tr>\n",
       "      <th>2</th>\n",
       "      <td>31.0</td>\n",
       "      <td>11</td>\n",
       "      <td>NaN</td>\n",
       "      <td>1.0</td>\n",
       "      <td>1.0</td>\n",
       "    </tr>\n",
       "    <tr>\n",
       "      <th>3</th>\n",
       "      <td>9.0</td>\n",
       "      <td>11</td>\n",
       "      <td>NaN</td>\n",
       "      <td>1.0</td>\n",
       "      <td>NaN</td>\n",
       "    </tr>\n",
       "    <tr>\n",
       "      <th>4</th>\n",
       "      <td>6.0</td>\n",
       "      <td>11</td>\n",
       "      <td>NaN</td>\n",
       "      <td>2.0</td>\n",
       "      <td>NaN</td>\n",
       "    </tr>\n",
       "    <tr>\n",
       "      <th>...</th>\n",
       "      <td>...</td>\n",
       "      <td>...</td>\n",
       "      <td>...</td>\n",
       "      <td>...</td>\n",
       "      <td>...</td>\n",
       "    </tr>\n",
       "    <tr>\n",
       "      <th>293721</th>\n",
       "      <td>49.0</td>\n",
       "      <td>53</td>\n",
       "      <td>NaN</td>\n",
       "      <td>2.0</td>\n",
       "      <td>1.0</td>\n",
       "    </tr>\n",
       "    <tr>\n",
       "      <th>293722</th>\n",
       "      <td>84.0</td>\n",
       "      <td>53</td>\n",
       "      <td>NaN</td>\n",
       "      <td>1.0</td>\n",
       "      <td>2.0</td>\n",
       "    </tr>\n",
       "    <tr>\n",
       "      <th>293723</th>\n",
       "      <td>21.0</td>\n",
       "      <td>53</td>\n",
       "      <td>NaN</td>\n",
       "      <td>1.0</td>\n",
       "      <td>1.0</td>\n",
       "    </tr>\n",
       "    <tr>\n",
       "      <th>293724</th>\n",
       "      <td>13.0</td>\n",
       "      <td>53</td>\n",
       "      <td>NaN</td>\n",
       "      <td>2.0</td>\n",
       "      <td>NaN</td>\n",
       "    </tr>\n",
       "    <tr>\n",
       "      <th>293725</th>\n",
       "      <td>NaN</td>\n",
       "      <td>53</td>\n",
       "      <td>NaN</td>\n",
       "      <td>NaN</td>\n",
       "      <td>NaN</td>\n",
       "    </tr>\n",
       "  </tbody>\n",
       "</table>\n",
       "<p>293726 rows × 5 columns</p>\n",
       "</div>"
      ],
      "text/plain": [
       "        idade  Estado  Tem depressão?  Sexo  Trabalha?\n",
       "0        55.0      11             1.0   2.0        1.0\n",
       "1        69.0      11             NaN   1.0        2.0\n",
       "2        31.0      11             NaN   1.0        1.0\n",
       "3         9.0      11             NaN   1.0        NaN\n",
       "4         6.0      11             NaN   2.0        NaN\n",
       "...       ...     ...             ...   ...        ...\n",
       "293721   49.0      53             NaN   2.0        1.0\n",
       "293722   84.0      53             NaN   1.0        2.0\n",
       "293723   21.0      53             NaN   1.0        1.0\n",
       "293724   13.0      53             NaN   2.0        NaN\n",
       "293725    NaN      53             NaN   NaN        NaN\n",
       "\n",
       "[293726 rows x 5 columns]"
      ]
     },
     "execution_count": 99,
     "metadata": {},
     "output_type": "execute_result"
    }
   ],
   "source": [
    "df[['idade', 'Estado', 'Tem depressão?', 'Sexo', 'Trabalha?']]"
   ]
  },
  {
   "cell_type": "markdown",
   "metadata": {
    "id": "y7t1jmyrQUz0"
   },
   "source": [
    "> **Verificando valores únicos nas colunas utilizadas**"
   ]
  },
  {
   "cell_type": "code",
   "execution_count": 100,
   "metadata": {
    "colab": {
     "base_uri": "https://localhost:8080/"
    },
    "executionInfo": {
     "elapsed": 69,
     "status": "ok",
     "timestamp": 1708345419853,
     "user": {
      "displayName": "Pedro Rodrigues",
      "userId": "13325411992293832064"
     },
     "user_tz": 180
    },
    "id": "BxnnwJjZQr6b",
    "outputId": "67c41e7f-bea4-4088-f379-c50c2b0a622f"
   },
   "outputs": [
    {
     "name": "stdout",
     "output_type": "stream",
     "text": [
      "Valores únicos em idade: [ 55.  69.  31.   9.   6.   4.  33.  17.  15.  19.  45.  78.  28.  25.\n",
      "  26.   7.   3.  58.   1.  81.  41.  54.  22.  37.  38.  14.  27.  52.\n",
      "  36.  56.  nan  72.  53.  50.  60.  35.  30.  21.  23.  42.   0.  49.\n",
      "  18.  24.  32.  66.  47.  20.  29.  40.  10.   8.  13.  63.  77.  65.\n",
      "  68.  61.  59.  39.  12.  11.  48.  73.  64.  44.  57.  34.  67.  16.\n",
      "  51.  46.  62.   5.  85.  74.   2.  76.  75.  43.  94.  80.  71.  70.\n",
      "  84.  79.  88.  92.  83.  90. 102.  86.  87.  89.  82.  91.  97.  93.\n",
      "  95.  99. 101. 100.  98. 103. 104. 107.  96. 106. 105. 112.]\n",
      "\n",
      "Valores únicos em Tem depressão?: [ 1. nan  2.]\n",
      "\n",
      "Valores únicos em Estado: [11 12 13 14 15 16 17 21 22 23 24 25 26 27 28 29 31 32 33 35 41 42 43 50\n",
      " 51 52 53]\n",
      "\n",
      "Valores únicos em Trabalha?: [ 1.  2. nan]\n",
      "\n",
      "Valores únicos em Sexo: [ 2.  1. nan]\n",
      "\n"
     ]
    }
   ],
   "source": [
    "for column in df[['idade', 'Tem depressão?', 'Estado', 'Trabalha?', 'Sexo']]:\n",
    "    unique_values = df[column].unique()\n",
    "    print(f'Valores únicos em {column}: {unique_values}')\n",
    "    print()\n"
   ]
  },
  {
   "cell_type": "code",
   "execution_count": 101,
   "metadata": {
    "colab": {
     "base_uri": "https://localhost:8080/"
    },
    "executionInfo": {
     "elapsed": 61,
     "status": "ok",
     "timestamp": 1708345419854,
     "user": {
      "displayName": "Pedro Rodrigues",
      "userId": "13325411992293832064"
     },
     "user_tz": 180
    },
    "id": "4CMBxTJoRh4a",
    "outputId": "57b05a90-7f9e-467d-c524-363c4a0915d0"
   },
   "outputs": [
    {
     "name": "stdout",
     "output_type": "stream",
     "text": [
      "<class 'pandas.core.frame.DataFrame'>\n",
      "RangeIndex: 293726 entries, 0 to 293725\n",
      "Data columns (total 5 columns):\n",
      " #   Column          Non-Null Count   Dtype  \n",
      "---  ------          --------------   -----  \n",
      " 0   idade           279382 non-null  float64\n",
      " 1   Estado          293726 non-null  int64  \n",
      " 2   Tem depressão?  90846 non-null   float64\n",
      " 3   Trabalha?       225563 non-null  float64\n",
      " 4   Sexo            279382 non-null  float64\n",
      "dtypes: float64(4), int64(1)\n",
      "memory usage: 11.2 MB\n"
     ]
    }
   ],
   "source": [
    "df[['idade', 'Estado', 'Tem depressão?', 'Trabalha?', 'Sexo']].info()\n"
   ]
  },
  {
   "cell_type": "markdown",
   "metadata": {},
   "source": [
    "## Tratando Atributos\n",
    "\n"
   ]
  },
  {
   "cell_type": "markdown",
   "metadata": {},
   "source": [
    "> **Coneventendo Colunas para inteiro**"
   ]
  },
  {
   "cell_type": "code",
   "execution_count": 102,
   "metadata": {},
   "outputs": [],
   "source": [
    "numeric_columns = df.select_dtypes(include='number').columns\n",
    "df[numeric_columns] = df[numeric_columns].apply(pd.to_numeric, errors='coerce').astype('Int64')"
   ]
  },
  {
   "cell_type": "markdown",
   "metadata": {},
   "source": [
    "> **Transformando atributos numericos**\n"
   ]
  },
  {
   "cell_type": "code",
   "execution_count": 103,
   "metadata": {},
   "outputs": [],
   "source": [
    "df['Trabalha?'] = df['Trabalha?'].map({1: 'Trabalha', 2: 'Não Trabalha'})\n",
    "df['Tem depressão?'] = df['Tem depressão?'].map({1: 'Sim', 2: 'Não'})\n",
    "df['Sexo'] = df['Sexo'].map({1: 'Homem', 2: 'Mulher'})"
   ]
  },
  {
   "cell_type": "markdown",
   "metadata": {},
   "source": [
    "> **Preenchendo valores vazios com \"Não informado\".**"
   ]
  },
  {
   "cell_type": "code",
   "execution_count": 104,
   "metadata": {},
   "outputs": [
    {
     "data": {
      "text/html": [
       "<div>\n",
       "<style scoped>\n",
       "    .dataframe tbody tr th:only-of-type {\n",
       "        vertical-align: middle;\n",
       "    }\n",
       "\n",
       "    .dataframe tbody tr th {\n",
       "        vertical-align: top;\n",
       "    }\n",
       "\n",
       "    .dataframe thead th {\n",
       "        text-align: right;\n",
       "    }\n",
       "</style>\n",
       "<table border=\"1\" class=\"dataframe\">\n",
       "  <thead>\n",
       "    <tr style=\"text-align: right;\">\n",
       "      <th></th>\n",
       "      <th>idade</th>\n",
       "      <th>Estado</th>\n",
       "      <th>Tem depressão?</th>\n",
       "      <th>Trabalha?</th>\n",
       "      <th>Sexo</th>\n",
       "    </tr>\n",
       "  </thead>\n",
       "  <tbody>\n",
       "    <tr>\n",
       "      <th>0</th>\n",
       "      <td>55</td>\n",
       "      <td>11</td>\n",
       "      <td>Sim</td>\n",
       "      <td>Trabalha</td>\n",
       "      <td>Mulher</td>\n",
       "    </tr>\n",
       "    <tr>\n",
       "      <th>1</th>\n",
       "      <td>69</td>\n",
       "      <td>11</td>\n",
       "      <td>Não informado</td>\n",
       "      <td>Não Trabalha</td>\n",
       "      <td>Homem</td>\n",
       "    </tr>\n",
       "    <tr>\n",
       "      <th>2</th>\n",
       "      <td>31</td>\n",
       "      <td>11</td>\n",
       "      <td>Não informado</td>\n",
       "      <td>Trabalha</td>\n",
       "      <td>Homem</td>\n",
       "    </tr>\n",
       "    <tr>\n",
       "      <th>3</th>\n",
       "      <td>9</td>\n",
       "      <td>11</td>\n",
       "      <td>Não informado</td>\n",
       "      <td>Não informado</td>\n",
       "      <td>Homem</td>\n",
       "    </tr>\n",
       "    <tr>\n",
       "      <th>4</th>\n",
       "      <td>6</td>\n",
       "      <td>11</td>\n",
       "      <td>Não informado</td>\n",
       "      <td>Não informado</td>\n",
       "      <td>Mulher</td>\n",
       "    </tr>\n",
       "    <tr>\n",
       "      <th>...</th>\n",
       "      <td>...</td>\n",
       "      <td>...</td>\n",
       "      <td>...</td>\n",
       "      <td>...</td>\n",
       "      <td>...</td>\n",
       "    </tr>\n",
       "    <tr>\n",
       "      <th>293721</th>\n",
       "      <td>49</td>\n",
       "      <td>53</td>\n",
       "      <td>Não informado</td>\n",
       "      <td>Trabalha</td>\n",
       "      <td>Mulher</td>\n",
       "    </tr>\n",
       "    <tr>\n",
       "      <th>293722</th>\n",
       "      <td>84</td>\n",
       "      <td>53</td>\n",
       "      <td>Não informado</td>\n",
       "      <td>Não Trabalha</td>\n",
       "      <td>Homem</td>\n",
       "    </tr>\n",
       "    <tr>\n",
       "      <th>293723</th>\n",
       "      <td>21</td>\n",
       "      <td>53</td>\n",
       "      <td>Não informado</td>\n",
       "      <td>Trabalha</td>\n",
       "      <td>Homem</td>\n",
       "    </tr>\n",
       "    <tr>\n",
       "      <th>293724</th>\n",
       "      <td>13</td>\n",
       "      <td>53</td>\n",
       "      <td>Não informado</td>\n",
       "      <td>Não informado</td>\n",
       "      <td>Mulher</td>\n",
       "    </tr>\n",
       "    <tr>\n",
       "      <th>293725</th>\n",
       "      <td>Não informado</td>\n",
       "      <td>53</td>\n",
       "      <td>Não informado</td>\n",
       "      <td>Não informado</td>\n",
       "      <td>Não informado</td>\n",
       "    </tr>\n",
       "  </tbody>\n",
       "</table>\n",
       "<p>293726 rows × 5 columns</p>\n",
       "</div>"
      ],
      "text/plain": [
       "                idade  Estado Tem depressão?      Trabalha?           Sexo\n",
       "0                  55      11            Sim       Trabalha         Mulher\n",
       "1                  69      11  Não informado   Não Trabalha          Homem\n",
       "2                  31      11  Não informado       Trabalha          Homem\n",
       "3                   9      11  Não informado  Não informado          Homem\n",
       "4                   6      11  Não informado  Não informado         Mulher\n",
       "...               ...     ...            ...            ...            ...\n",
       "293721             49      53  Não informado       Trabalha         Mulher\n",
       "293722             84      53  Não informado   Não Trabalha          Homem\n",
       "293723             21      53  Não informado       Trabalha          Homem\n",
       "293724             13      53  Não informado  Não informado         Mulher\n",
       "293725  Não informado      53  Não informado  Não informado  Não informado\n",
       "\n",
       "[293726 rows x 5 columns]"
      ]
     },
     "execution_count": 104,
     "metadata": {},
     "output_type": "execute_result"
    }
   ],
   "source": [
    "df[['idade', 'Estado', 'Tem depressão?', 'Trabalha?', 'Sexo']] = df[['idade', 'Estado', 'Tem depressão?', 'Trabalha?', 'Sexo']].applymap(lambda x: 'Não informado' if pd.isna(x) else x)\n",
    "df[['idade', 'Estado', 'Tem depressão?', 'Trabalha?', 'Sexo']]"
   ]
  },
  {
   "cell_type": "code",
   "execution_count": 105,
   "metadata": {
    "colab": {
     "base_uri": "https://localhost:8080/"
    },
    "executionInfo": {
     "elapsed": 61,
     "status": "ok",
     "timestamp": 1708345419854,
     "user": {
      "displayName": "Pedro Rodrigues",
      "userId": "13325411992293832064"
     },
     "user_tz": 180
    },
    "id": "4CMBxTJoRh4a",
    "outputId": "57b05a90-7f9e-467d-c524-363c4a0915d0"
   },
   "outputs": [
    {
     "name": "stdout",
     "output_type": "stream",
     "text": [
      "<class 'pandas.core.frame.DataFrame'>\n",
      "RangeIndex: 293726 entries, 0 to 293725\n",
      "Data columns (total 5 columns):\n",
      " #   Column          Non-Null Count   Dtype \n",
      "---  ------          --------------   ----- \n",
      " 0   idade           293726 non-null  object\n",
      " 1   Estado          293726 non-null  int64 \n",
      " 2   Tem depressão?  293726 non-null  object\n",
      " 3   Trabalha?       293726 non-null  object\n",
      " 4   Sexo            293726 non-null  object\n",
      "dtypes: int64(1), object(4)\n",
      "memory usage: 11.2+ MB\n"
     ]
    }
   ],
   "source": [
    "df[['idade', 'Estado', 'Tem depressão?', 'Trabalha?', 'Sexo']].info()\n"
   ]
  },
  {
   "cell_type": "code",
   "execution_count": 106,
   "metadata": {},
   "outputs": [
    {
     "data": {
      "text/html": [
       "<div>\n",
       "<style scoped>\n",
       "    .dataframe tbody tr th:only-of-type {\n",
       "        vertical-align: middle;\n",
       "    }\n",
       "\n",
       "    .dataframe tbody tr th {\n",
       "        vertical-align: top;\n",
       "    }\n",
       "\n",
       "    .dataframe thead th {\n",
       "        text-align: right;\n",
       "    }\n",
       "</style>\n",
       "<table border=\"1\" class=\"dataframe\">\n",
       "  <thead>\n",
       "    <tr style=\"text-align: right;\">\n",
       "      <th></th>\n",
       "      <th>Estado</th>\n",
       "      <th>idade</th>\n",
       "      <th>Tem depressão?</th>\n",
       "      <th>Trabalha?</th>\n",
       "      <th>Sexo</th>\n",
       "    </tr>\n",
       "  </thead>\n",
       "  <tbody>\n",
       "    <tr>\n",
       "      <th>0</th>\n",
       "      <td>11</td>\n",
       "      <td>55</td>\n",
       "      <td>Sim</td>\n",
       "      <td>Trabalha</td>\n",
       "      <td>Mulher</td>\n",
       "    </tr>\n",
       "    <tr>\n",
       "      <th>1</th>\n",
       "      <td>11</td>\n",
       "      <td>69</td>\n",
       "      <td>Não informado</td>\n",
       "      <td>Não Trabalha</td>\n",
       "      <td>Homem</td>\n",
       "    </tr>\n",
       "    <tr>\n",
       "      <th>2</th>\n",
       "      <td>11</td>\n",
       "      <td>31</td>\n",
       "      <td>Não informado</td>\n",
       "      <td>Trabalha</td>\n",
       "      <td>Homem</td>\n",
       "    </tr>\n",
       "    <tr>\n",
       "      <th>3</th>\n",
       "      <td>11</td>\n",
       "      <td>9</td>\n",
       "      <td>Não informado</td>\n",
       "      <td>Não informado</td>\n",
       "      <td>Homem</td>\n",
       "    </tr>\n",
       "    <tr>\n",
       "      <th>4</th>\n",
       "      <td>11</td>\n",
       "      <td>6</td>\n",
       "      <td>Não informado</td>\n",
       "      <td>Não informado</td>\n",
       "      <td>Mulher</td>\n",
       "    </tr>\n",
       "  </tbody>\n",
       "</table>\n",
       "</div>"
      ],
      "text/plain": [
       "   Estado idade Tem depressão?      Trabalha?    Sexo\n",
       "0      11    55            Sim       Trabalha  Mulher\n",
       "1      11    69  Não informado   Não Trabalha   Homem\n",
       "2      11    31  Não informado       Trabalha   Homem\n",
       "3      11     9  Não informado  Não informado   Homem\n",
       "4      11     6  Não informado  Não informado  Mulher"
      ]
     },
     "execution_count": 106,
     "metadata": {},
     "output_type": "execute_result"
    }
   ],
   "source": [
    "df.head()"
   ]
  },
  {
   "cell_type": "code",
   "execution_count": 107,
   "metadata": {},
   "outputs": [
    {
     "name": "stdout",
     "output_type": "stream",
     "text": [
      "Valores únicos em idade: [55 69 31 9 6 4 33 17 15 19 45 78 28 25 26 7 3 58 1 81 41 54 22 37 38 14\n",
      " 27 52 36 56 'Não informado' 72 53 50 60 35 30 21 23 42 0 49 18 24 32 66\n",
      " 47 20 29 40 10 8 13 63 77 65 68 61 59 39 12 11 48 73 64 44 57 34 67 16 51\n",
      " 46 62 5 85 74 2 76 75 43 94 80 71 70 84 79 88 92 83 90 102 86 87 89 82 91\n",
      " 97 93 95 99 101 100 98 103 104 107 96 106 105 112]\n",
      "\n",
      "Valores únicos em Tem depressão?: ['Sim' 'Não informado' 'Não']\n",
      "\n",
      "Valores únicos em Estado: [11 12 13 14 15 16 17 21 22 23 24 25 26 27 28 29 31 32 33 35 41 42 43 50\n",
      " 51 52 53]\n",
      "\n",
      "Valores únicos em Trabalha?: ['Trabalha' 'Não Trabalha' 'Não informado']\n",
      "\n",
      "Valores únicos em Sexo: ['Mulher' 'Homem' 'Não informado']\n",
      "\n"
     ]
    }
   ],
   "source": [
    "for column in df[['idade', 'Tem depressão?', 'Estado', 'Trabalha?', 'Sexo']]:\n",
    "    unique_values = df[column].unique()\n",
    "    print(f'Valores únicos em {column}: {unique_values}')\n",
    "    print()"
   ]
  },
  {
   "cell_type": "markdown",
   "metadata": {},
   "source": [
    "> **Renomeando atributos de Estado**"
   ]
  },
  {
   "cell_type": "code",
   "execution_count": 108,
   "metadata": {},
   "outputs": [],
   "source": [
    "mapeamento_estado = {\n",
    "    11: 'Rondônia',\n",
    "    12: 'Acre',\n",
    "    13: 'Amazonas',\n",
    "    14: 'Roraima',\n",
    "    15: 'Pará',\n",
    "    16: 'Amapá',\n",
    "    17: 'Tocantins',\n",
    "    21: 'Maranhão',\n",
    "    22: 'Piauí',\n",
    "    23: 'Ceará',\n",
    "    24: 'Rio Grande do Norte',\n",
    "    25: 'Paraíba',\n",
    "    26: 'Pernambuco',\n",
    "    27: 'Alagoas',\n",
    "    28: 'Sergipe',\n",
    "    29: 'Bahia',\n",
    "    31: 'Minas Gerais',\n",
    "    32: 'Espírito Santo',\n",
    "    33: 'Rio de Janeiro',\n",
    "    35: 'São Paulo',\n",
    "    41: 'Paraná',\n",
    "    42: 'Santa Catarina',\n",
    "    43: 'Rio Grande do Sul',\n",
    "    50: 'Mato Grosso do Sul',\n",
    "    51: 'Mato Grosso',\n",
    "    52: 'Goiás',\n",
    "    53: 'Distrito Federal'\n",
    "}\n",
    "\n",
    "df['Estado'] = df['Estado'].map(mapeamento_estado)"
   ]
  },
  {
   "cell_type": "markdown",
   "metadata": {},
   "source": [
    "> **Adicionando coluna de regiões** "
   ]
  },
  {
   "cell_type": "code",
   "execution_count": 109,
   "metadata": {
    "scrolled": true
   },
   "outputs": [],
   "source": [
    "\n",
    "regioes_por_estado = {\n",
    "    'Acre': 'Norte',\n",
    "    'Alagoas': 'Nordeste',\n",
    "    'Amapá': 'Norte',\n",
    "    'Amazonas': 'Norte',\n",
    "    'Bahia': 'Nordeste',\n",
    "    'Ceará': 'Nordeste',\n",
    "    'Distrito Federal': 'Centro-Oeste',\n",
    "    'Espírito Santo': 'Sudeste',\n",
    "    'Goiás': 'Centro-Oeste',\n",
    "    'Maranhão': 'Nordeste',\n",
    "    'Mato Grosso': 'Centro-Oeste',\n",
    "    'Mato Grosso do Sul': 'Centro-Oeste',\n",
    "    'Minas Gerais': 'Sudeste',\n",
    "    'Pará': 'Norte',\n",
    "    'Paraíba': 'Nordeste',\n",
    "    'Paraná': 'Sul',\n",
    "    'Pernambuco': 'Nordeste',\n",
    "    'Piauí': 'Nordeste',\n",
    "    'Rio de Janeiro': 'Sudeste',\n",
    "    'Rio Grande do Norte': 'Nordeste',\n",
    "    'Rio Grande do Sul': 'Sul',\n",
    "    'Rondônia': 'Norte',\n",
    "    'Roraima': 'Norte',\n",
    "    'Santa Catarina': 'Sul',\n",
    "    'São Paulo': 'Sudeste',\n",
    "    'Sergipe': 'Nordeste',\n",
    "    'Tocantins': 'Norte'\n",
    "}\n",
    "\n",
    "df['Região'] = df['Estado'].map(regioes_por_estado)\n",
    "\n"
   ]
  },
  {
   "cell_type": "code",
   "execution_count": 110,
   "metadata": {},
   "outputs": [
    {
     "data": {
      "text/html": [
       "<div>\n",
       "<style scoped>\n",
       "    .dataframe tbody tr th:only-of-type {\n",
       "        vertical-align: middle;\n",
       "    }\n",
       "\n",
       "    .dataframe tbody tr th {\n",
       "        vertical-align: top;\n",
       "    }\n",
       "\n",
       "    .dataframe thead th {\n",
       "        text-align: right;\n",
       "    }\n",
       "</style>\n",
       "<table border=\"1\" class=\"dataframe\">\n",
       "  <thead>\n",
       "    <tr style=\"text-align: right;\">\n",
       "      <th></th>\n",
       "      <th>Estado</th>\n",
       "      <th>idade</th>\n",
       "      <th>Tem depressão?</th>\n",
       "      <th>Trabalha?</th>\n",
       "      <th>Sexo</th>\n",
       "      <th>Região</th>\n",
       "    </tr>\n",
       "  </thead>\n",
       "  <tbody>\n",
       "    <tr>\n",
       "      <th>0</th>\n",
       "      <td>Rondônia</td>\n",
       "      <td>55</td>\n",
       "      <td>Sim</td>\n",
       "      <td>Trabalha</td>\n",
       "      <td>Mulher</td>\n",
       "      <td>Norte</td>\n",
       "    </tr>\n",
       "    <tr>\n",
       "      <th>1</th>\n",
       "      <td>Rondônia</td>\n",
       "      <td>69</td>\n",
       "      <td>Não informado</td>\n",
       "      <td>Não Trabalha</td>\n",
       "      <td>Homem</td>\n",
       "      <td>Norte</td>\n",
       "    </tr>\n",
       "    <tr>\n",
       "      <th>2</th>\n",
       "      <td>Rondônia</td>\n",
       "      <td>31</td>\n",
       "      <td>Não informado</td>\n",
       "      <td>Trabalha</td>\n",
       "      <td>Homem</td>\n",
       "      <td>Norte</td>\n",
       "    </tr>\n",
       "    <tr>\n",
       "      <th>3</th>\n",
       "      <td>Rondônia</td>\n",
       "      <td>9</td>\n",
       "      <td>Não informado</td>\n",
       "      <td>Não informado</td>\n",
       "      <td>Homem</td>\n",
       "      <td>Norte</td>\n",
       "    </tr>\n",
       "    <tr>\n",
       "      <th>4</th>\n",
       "      <td>Rondônia</td>\n",
       "      <td>6</td>\n",
       "      <td>Não informado</td>\n",
       "      <td>Não informado</td>\n",
       "      <td>Mulher</td>\n",
       "      <td>Norte</td>\n",
       "    </tr>\n",
       "  </tbody>\n",
       "</table>\n",
       "</div>"
      ],
      "text/plain": [
       "     Estado idade Tem depressão?      Trabalha?    Sexo Região\n",
       "0  Rondônia    55            Sim       Trabalha  Mulher  Norte\n",
       "1  Rondônia    69  Não informado   Não Trabalha   Homem  Norte\n",
       "2  Rondônia    31  Não informado       Trabalha   Homem  Norte\n",
       "3  Rondônia     9  Não informado  Não informado   Homem  Norte\n",
       "4  Rondônia     6  Não informado  Não informado  Mulher  Norte"
      ]
     },
     "execution_count": 110,
     "metadata": {},
     "output_type": "execute_result"
    }
   ],
   "source": [
    "df.head()"
   ]
  },
  {
   "cell_type": "code",
   "execution_count": 111,
   "metadata": {},
   "outputs": [],
   "source": [
    "\n",
    "df = df[['idade', 'Estado', 'Tem depressão?', 'Trabalha?', 'Região', 'Sexo']]\n",
    "df.to_csv(\"base_filtrada.csv\")"
   ]
  }
 ],
 "metadata": {
  "colab": {
   "authorship_tag": "ABX9TyOLhBlzG6AxL4Jm8fn4ILD+",
   "provenance": []
  },
  "kernelspec": {
   "display_name": "Python 3 (ipykernel)",
   "language": "python",
   "name": "python3"
  },
  "language_info": {
   "codemirror_mode": {
    "name": "ipython",
    "version": 3
   },
   "file_extension": ".py",
   "mimetype": "text/x-python",
   "name": "python",
   "nbconvert_exporter": "python",
   "pygments_lexer": "ipython3",
   "version": "3.9.13"
  }
 },
 "nbformat": 4,
 "nbformat_minor": 1
}
